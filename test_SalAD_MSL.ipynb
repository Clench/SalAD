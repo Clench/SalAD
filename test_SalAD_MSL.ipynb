{
 "cells": [
  {
   "cell_type": "code",
   "execution_count": 1,
   "metadata": {},
   "outputs": [],
   "source": [
    "from ast import literal_eval\n",
    "from csv import reader\n",
    "from os import listdir, makedirs, path\n",
    "from pickle import dump\n",
    "import pickle\n",
    "import numpy as np\n",
    "from sklearn.preprocessing import MinMaxScaler, RobustScaler\n",
    "from model import Seq2Seq, RecurrentAutoencoder, DNNAE, SalTransformer, SalAE, SalSCINet, SalGATSCINet, SalGATSCINetV2, SalGATConvLSTM, SalGATConvGRU, ConvGRU, SalGATConvGRUwoSal, SalConvGRUwoALL\n",
    "\n",
    "\n",
    "import os, random\n",
    "import torch\n",
    "from torch.nn import TransformerAE\n",
    "from torch.utils.data import DataLoader, Dataset, SubsetRandomSampler\n",
    "os.environ['CUDA_VISIBLE_DEVICES'] = '4'\n",
    "\n",
    "random_seed = 42\n",
    "torch.manual_seed(random_seed)\n",
    "torch.cuda.manual_seed(random_seed)\n",
    "torch.cuda.manual_seed_all(random_seed)\n",
    "torch.backends.cudnn.deterministic = True\n",
    "torch.backends.cudnn.benchmark = False\n",
    "np.random.seed(random_seed)\n",
    "random.seed(random_seed)\n",
    "# from args import get_parser\n",
    "\n",
    "\n",
    "def load_and_save(category, filename, dataset, dataset_folder, output_folder):\n",
    "    temp = np.genfromtxt(\n",
    "        path.join(dataset_folder, category, filename),\n",
    "        dtype=np.float32,\n",
    "        delimiter=\",\",\n",
    "    )\n",
    "    print(dataset, category, filename, temp.shape)\n",
    "    with open(path.join(output_folder, dataset + \"_\" + category + \".pkl\"), \"wb\") as file:\n",
    "        dump(temp, file)\n",
    "\n",
    "\n",
    "def load_data(dataset):\n",
    "    \"\"\" Method from OmniAnomaly (https://github.com/NetManAIOps/OmniAnomaly) \"\"\"\n",
    "\n",
    "    if dataset == \"SMD\":\n",
    "        dataset_folder = \"/home/sangyup/saliency_anomaly_detection/dataset/ServerMachineDataset\"\n",
    "        output_folder = \"/home/sangyup/saliency_anomaly_detection/dataset/ServerMachineDataset/processed\"\n",
    "        makedirs(output_folder, exist_ok=True)\n",
    "        file_list = listdir(path.join(dataset_folder, \"train\"))\n",
    "        for filename in file_list:\n",
    "            if filename.endswith(\".txt\"):\n",
    "                load_and_save(\n",
    "                    \"train\",\n",
    "                    filename,\n",
    "                    filename.strip(\".txt\"),\n",
    "                    dataset_folder,\n",
    "                    output_folder,\n",
    "                )\n",
    "                load_and_save(\n",
    "                    \"test_label\",\n",
    "                    filename,\n",
    "                    filename.strip(\".txt\"),\n",
    "                    dataset_folder,\n",
    "                    output_folder,\n",
    "                )\n",
    "                load_and_save(\n",
    "                    \"test\",\n",
    "                    filename,\n",
    "                    filename.strip(\".txt\"),\n",
    "                    dataset_folder,\n",
    "                    output_folder,\n",
    "                )\n",
    "\n",
    "    elif dataset == \"SMAP\" or dataset == \"MSL\":\n",
    "        dataset_folder = \"/home/sangyup/saliency_anomaly_detection/dataset/SMAPMSL/data\"\n",
    "        output_folder = \"/home/sangyup/saliency_anomaly_detection/dataset/SMAPMSL/data/processed\"\n",
    "        makedirs(output_folder, exist_ok=True)\n",
    "        with open(path.join(dataset_folder, \"labeled_anomalies.csv\"), \"r\") as file:\n",
    "            csv_reader = reader(file, delimiter=\",\")\n",
    "            res = [row for row in csv_reader][1:]\n",
    "        res = sorted(res, key=lambda k: k[0])\n",
    "        data_info = [row for row in res if row[1] == dataset and row[0] != \"P-2\"]\n",
    "        labels = []\n",
    "        for row in data_info:\n",
    "            anomalies = literal_eval(row[2])\n",
    "            length = int(row[-1])\n",
    "            label = np.zeros([length], dtype=np.bool_)\n",
    "            for anomaly in anomalies:\n",
    "                label[anomaly[0] : anomaly[1] + 1] = True\n",
    "            labels.extend(label)\n",
    "\n",
    "        labels = np.asarray(labels)\n",
    "        print(dataset, \"test_label\", labels.shape)\n",
    "\n",
    "        with open(path.join(output_folder, dataset + \"_\" + \"test_label\" + \".pkl\"), \"wb\") as file:\n",
    "            dump(labels, file)\n",
    "\n",
    "        def concatenate_and_save(category):\n",
    "            data = []\n",
    "            for row in data_info:\n",
    "                filename = row[0]\n",
    "                temp = np.load(path.join(dataset_folder, category, filename + \".npy\"))\n",
    "                data.extend(temp)\n",
    "            data = np.asarray(data)\n",
    "            print(dataset, category, data.shape)\n",
    "            with open(path.join(output_folder, dataset + \"_\" + category + \".pkl\"), \"wb\") as file:\n",
    "                dump(data, file)\n",
    "\n",
    "        for c in [\"train\", \"test\"]:\n",
    "            concatenate_and_save(c)\n",
    "\n",
    "def normalize_data(data, scaler=None):\n",
    "    data = np.asarray(data, dtype=np.float32)\n",
    "    if np.any(sum(np.isnan(data))):\n",
    "        data = np.nan_to_num(data)\n",
    "\n",
    "    if scaler is None:\n",
    "        scaler = MinMaxScaler()\n",
    "        scaler.fit(data)\n",
    "    data = scaler.transform(data)\n",
    "    print(\"Data normalized\")\n",
    "\n",
    "    return data, scaler\n",
    "\n",
    "def get_data_dim(dataset):\n",
    "    \"\"\"\n",
    "    :param dataset: Name of dataset\n",
    "    :return: Number of dimensions in data\n",
    "    \"\"\"\n",
    "    if dataset == \"SMAP\":\n",
    "        return 25\n",
    "    elif dataset == \"MSL\":\n",
    "        return 55\n",
    "    elif str(dataset).startswith(\"machine\"):\n",
    "        return 38\n",
    "    else:\n",
    "        raise ValueError(\"unknown dataset \" + str(dataset))\n",
    "\n",
    "        \n",
    "def get_data(dataset, max_train_size=None, max_test_size=None,\n",
    "             normalize=False, spec_res=False, train_start=0, test_start=0):\n",
    "    \"\"\"\n",
    "    Get data from pkl files\n",
    "\n",
    "    return shape: (([train_size, x_dim], [train_size] or None), ([test_size, x_dim], [test_size]))\n",
    "    Method from OmniAnomaly (https://github.com/NetManAIOps/OmniAnomaly)\n",
    "    \"\"\"\n",
    "    prefix = \"/home/sangyup/saliency_anomaly_detection/dataset\"\n",
    "    if str(dataset).startswith(\"machine\"):\n",
    "        prefix += \"/ServerMachineDataset/processed\"\n",
    "    elif dataset in [\"MSL\", \"SMAP\"]:\n",
    "        prefix += \"/SMAPMSL/data/processed\"\n",
    "    if max_train_size is None:\n",
    "        train_end = None\n",
    "    else:\n",
    "        train_end = train_start + max_train_size\n",
    "    if max_test_size is None:\n",
    "        test_end = None\n",
    "    else:\n",
    "        test_end = test_start + max_test_size\n",
    "    print(\"load data of:\", dataset)\n",
    "    print(\"train: \", train_start, train_end)\n",
    "    print(\"test: \", test_start, test_end)\n",
    "    x_dim = get_data_dim(dataset)\n",
    "    f = open(os.path.join(prefix, dataset + \"_train.pkl\"), \"rb\")\n",
    "    train_data = pickle.load(f).reshape((-1, x_dim))[train_start:train_end, :]\n",
    "    f.close()\n",
    "    try:\n",
    "        f = open(os.path.join(prefix, dataset + \"_test.pkl\"), \"rb\")\n",
    "        test_data = pickle.load(f).reshape((-1, x_dim))[test_start:test_end, :]\n",
    "        f.close()\n",
    "    except (KeyError, FileNotFoundError):\n",
    "        test_data = None\n",
    "    try:\n",
    "        f = open(os.path.join(prefix, dataset + \"_test_label.pkl\"), \"rb\")\n",
    "        test_label = pickle.load(f).reshape((-1))[test_start:test_end]\n",
    "        f.close()\n",
    "    except (KeyError, FileNotFoundError):\n",
    "        test_label = None\n",
    "\n",
    "    if normalize:\n",
    "        train_data, scaler = normalize_data(train_data, scaler=None)\n",
    "        test_data, _ = normalize_data(test_data, scaler=scaler)\n",
    "\n",
    "    print(\"train set shape: \", train_data.shape)\n",
    "    print(\"test set shape: \", test_data.shape)\n",
    "    print(\"test set label shape: \", None if test_label is None else test_label.shape)\n",
    "    return (train_data, None), (test_data, test_label)"
   ]
  },
  {
   "cell_type": "code",
   "execution_count": 2,
   "metadata": {},
   "outputs": [
    {
     "name": "stdout",
     "output_type": "stream",
     "text": [
      "MSL test_label (73729,)\n",
      "MSL train (58317, 55)\n",
      "MSL test (73729, 55)\n"
     ]
    }
   ],
   "source": [
    "ds = 'MSL'\n",
    "load_data(ds.upper())"
   ]
  },
  {
   "cell_type": "code",
   "execution_count": 3,
   "metadata": {},
   "outputs": [
    {
     "name": "stdout",
     "output_type": "stream",
     "text": [
      "load data of: MSL\n",
      "train:  0 None\n",
      "test:  0 None\n",
      "Data normalized\n",
      "Data normalized\n",
      "train set shape:  (58317, 55)\n",
      "test set shape:  (73729, 55)\n",
      "test set label shape:  (73729,)\n"
     ]
    }
   ],
   "source": [
    "(x_train, _), (x_test, y_test) = get_data('MSL', normalize=True)"
   ]
  },
  {
   "cell_type": "code",
   "execution_count": 4,
   "metadata": {},
   "outputs": [
    {
     "data": {
      "text/plain": [
       "(73629, 100, 55)"
      ]
     },
     "execution_count": 4,
     "metadata": {},
     "output_type": "execute_result"
    }
   ],
   "source": [
    "def split_series(series, n_past, n_future):\n",
    "    '''\n",
    "\n",
    "    :param series: input time series\n",
    "    :param n_past: number of past observations\n",
    "    :param n_future: number of future series\n",
    "    :return: X, y(label)\n",
    "    '''\n",
    "    X, y = list(), list()\n",
    "    for window_start in range(len(series)):\n",
    "        past_end = window_start + n_past\n",
    "        future_end = past_end + n_future\n",
    "        if future_end > len(series):\n",
    "            break\n",
    "        # slicing the past and future parts of the window\n",
    "        past, future = series[window_start:past_end, :], series[past_end:future_end, :]\n",
    "        X.append(past)\n",
    "        y.append(future)\n",
    "\n",
    "    return X, y\n",
    "\n",
    "x_test_windowed, _ = split_series(x_test, 100, 1)\n",
    "np.array(x_test_windowed).shape"
   ]
  },
  {
   "cell_type": "code",
   "execution_count": 5,
   "metadata": {},
   "outputs": [],
   "source": [
    "from torch.utils.data import Dataset, DataLoader\n",
    "class ReconDataset(Dataset):\n",
    "    def __init__(self, data, window, target_cols):\n",
    "        self.data = torch.Tensor(data)\n",
    "        self.window = window\n",
    "        self.target_cols = target_cols\n",
    "        self.shape = self.__getshape__()\n",
    "        self.size = self.__getsize__()\n",
    "\n",
    "    def __getitem__(self, index):\n",
    "        x = self.data[index:index+self.window]\n",
    "        y = self.data[index:index+self.window]\n",
    "        return x, y\n",
    "\n",
    "    def __len__(self):\n",
    "        return len(self.data) -  self.window \n",
    "    \n",
    "    def __getshape__(self):\n",
    "        return (self.__len__(), *self.__getitem__(0)[0].shape)\n",
    "\n",
    "    def __getsize__(self):\n",
    "        return (self.__len__())\n",
    "\n",
    "class ForecastDataset(Dataset):\n",
    "    def __init__(self, data, window, target_cols):\n",
    "        self.data = torch.Tensor(data)\n",
    "        self.window = window\n",
    "        self.target_cols = target_cols\n",
    "        self.shape = self.__getshape__()\n",
    "        self.size = self.__getsize__()\n",
    "\n",
    "    def __getitem__(self, index):\n",
    "        x = self.data[index:index+self.window]\n",
    "        y = self.data[index+self.window,0:self.target_cols]\n",
    "        return x, y\n",
    "\n",
    "    def __len__(self):\n",
    "        return len(self.data) -  self.window \n",
    "    \n",
    "    def __getshape__(self):\n",
    "        return (self.__len__(), *self.__getitem__(0)[0].shape)\n",
    "    \n",
    "    def __getsize__(self):\n",
    "        return (self.__len__())\n",
    "\n",
    "class ReconForecastDataset(Dataset):\n",
    "    def __init__(self, data, window, horizon):\n",
    "        self.data = torch.Tensor(data)\n",
    "        self.window = window\n",
    "        self.horizon = horizon\n",
    "        self.shape = self.__getshape__()\n",
    "        self.size = self.__getsize__()\n",
    "\n",
    "    def __getitem__(self, index):\n",
    "        x = self.data[index:index+self.window]\n",
    "        y_recon = self.data[index:index+self.window]\n",
    "        y_fore = self.data[index+self.window:index+self.window+self.horizon]\n",
    "        return x, y_recon, y_fore\n",
    "\n",
    "    def __len__(self):\n",
    "        return len(self.data) -  self.window \n",
    "    \n",
    "    def __getshape__(self):\n",
    "        return (self.__len__(), *self.__getitem__(0)[0].shape), (self.__len__(), *self.__getitem__(0)[1].shape), (self.__len__(), *self.__getitem__(0)[2].shape)\n",
    "    \n",
    "    def __getsize__(self):\n",
    "        return (self.__len__())\n",
    "\n",
    "\n",
    "def create_data_loaders(train_dataset, batch_size, val_split=0.1, shuffle=False, test_dataset=None):\n",
    "    train_loader, val_loader, test_loader = None, None, None\n",
    "    if val_split == 0.0:\n",
    "        print(f\"train_size: {len(train_dataset)}\")\n",
    "        train_loader = torch.utils.data.DataLoader(train_dataset, batch_size=batch_size, shuffle=shuffle, drop_last=True)\n",
    "\n",
    "    else:\n",
    "        dataset_size = len(train_dataset)\n",
    "        indices = list(range(dataset_size))\n",
    "        split = int(np.floor(val_split * dataset_size))\n",
    "        if shuffle:\n",
    "            np.random.shuffle(indices)\n",
    "        train_indices, val_indices = indices[split:], indices[:split]\n",
    "\n",
    "        train_sampler = SubsetRandomSampler(train_indices)\n",
    "        valid_sampler = SubsetRandomSampler(val_indices)\n",
    "\n",
    "        train_loader = torch.utils.data.DataLoader(train_dataset, batch_size=batch_size, shuffle=shuffle, sampler=train_sampler, drop_last=True)\n",
    "        val_loader = torch.utils.data.DataLoader(train_dataset, batch_size=batch_size, shuffle=shuffle, sampler=valid_sampler, drop_last=True)\n",
    "\n",
    "        print(f\"train_size: {len(train_indices)}\")\n",
    "        print(f\"validation_size: {len(val_indices)}\")\n",
    "\n",
    "    if test_dataset is not None:\n",
    "        test_loader = DataLoader(test_dataset, batch_size=batch_size, shuffle=False, drop_last=True)\n",
    "        print(f\"test_size: {len(test_dataset)}\")\n",
    "\n",
    "    return train_loader, val_loader, test_loader\n",
    "\n",
    "\n",
    "# From Informer\n",
    "\n",
    "class StandardScaler():\n",
    "    def __init__(self):\n",
    "        self.mean = 0.\n",
    "        self.std = 1.\n",
    "    \n",
    "    def fit(self, data):\n",
    "        self.mean = data.mean(0)\n",
    "        self.std = data.std(0)\n",
    "\n",
    "    def transform(self, data):\n",
    "        mean = torch.from_numpy(self.mean).type_as(data).to(data.device) if torch.is_tensor(data) else self.mean\n",
    "        std = torch.from_numpy(self.std).type_as(data).to(data.device) if torch.is_tensor(data) else self.std\n",
    "        return (data - mean) / std\n",
    "\n",
    "    def inverse_transform(self, data):\n",
    "        mean = torch.from_numpy(self.mean).type_as(data).to(data.device) if torch.is_tensor(data) else self.mean\n",
    "        std = torch.from_numpy(self.std).type_as(data).to(data.device) if torch.is_tensor(data) else self.std\n",
    "        return (data * std) + mean\n",
    "\n",
    "# 시간 특징을 freq에 따라 추출\n",
    "def time_features(dates, freq='h'):\n",
    "    dates['month'] = dates.date.apply(lambda row:row.month,1)\n",
    "    dates['day'] = dates.date.apply(lambda row:row.day,1)\n",
    "    dates['weekday'] = dates.date.apply(lambda row:row.weekday(),1)\n",
    "    dates['hour'] = dates.date.apply(lambda row:row.hour,1)\n",
    "    dates['minute'] = dates.date.apply(lambda row:row.minute,1)\n",
    "    dates['minute'] = dates.minute.map(lambda x:x//15)\n",
    "    freq_map = {\n",
    "        'y':[],'m':['month'],'w':['month'],'d':['month','day','weekday'],\n",
    "        'b':['month','day','weekday'],'h':['month','day','weekday','hour'],\n",
    "        't':['month','day','weekday','hour','minute'],\n",
    "    }\n",
    "    return dates[freq_map[freq.lower()]].values\n",
    "\n",
    "# 한번의 batch를 실행하는 코드\n",
    "def _process_one_batch(batch_x, batch_y, batch_x_mark, batch_y_mark):\n",
    "    batch_x = batch_x.float().to(device)\n",
    "    batch_y = batch_y.float()\n",
    "    batch_x_mark = batch_x_mark.float().to(device)\n",
    "    batch_y_mark = batch_y_mark.float().to(device)\n",
    "    dec_inp = torch.zeros([batch_y.shape[0], pred_len, batch_y.shape[-1]]).float()\n",
    "    dec_inp = torch.cat([batch_y[:,:label_len,:], dec_inp], dim=1).float().to(device)\n",
    "    outputs = model(batch_x, batch_x_mark, dec_inp, batch_y_mark)\n",
    "    batch_y = batch_y[:,-pred_len:,0:].to(device)\n",
    "    return outputs, batch_y\n",
    "\n",
    "\n",
    "class Dataset_Pred(Dataset):\n",
    "    def __init__(self, dataframe, size=None, scale=True):\n",
    "        self.seq_len = size[0]\n",
    "        self.label_len = size[1]\n",
    "        self.pred_len = size[2]\n",
    "        self.dataframe = dataframe\n",
    "        \n",
    "        self.scale = scale\n",
    "        self.__read_data__()\n",
    "\n",
    "    def __read_data__(self):\n",
    "        self.scaler = StandardScaler()\n",
    "        df_raw = self.dataframe\n",
    "        df_raw[\"date\"] = pd.to_datetime(df_raw[\"date\"])\n",
    "\n",
    "        delta = df_raw[\"date\"].iloc[1] - df_raw[\"date\"].iloc[0]\n",
    "        if delta>=timedelta(hours=1):\n",
    "            self.freq='h'\n",
    "        else:\n",
    "            self.freq='t'\n",
    "\n",
    "        border1 = 0\n",
    "        border2 = len(df_raw)\n",
    "        cols_data = df_raw.columns[1:]\n",
    "        df_data = df_raw[cols_data]\n",
    "\n",
    "\n",
    "        if self.scale:\n",
    "            self.scaler.fit(df_data.values)\n",
    "            data = self.scaler.transform(df_data.values)\n",
    "        else:\n",
    "            data = df_data.values\n",
    "            \n",
    "        tmp_stamp = df_raw[['date']][border1:border2]\n",
    "        tmp_stamp['date'] = pd.to_datetime(tmp_stamp.date)\n",
    "        pred_dates = pd.date_range(tmp_stamp.date.values[-1], periods=self.pred_len+1, freq=self.freq)\n",
    "        \n",
    "        df_stamp = pd.DataFrame(columns = ['date'])\n",
    "        df_stamp.date = list(tmp_stamp.date.values) + list(pred_dates[1:])\n",
    "        data_stamp = time_features(df_stamp, freq=self.freq)\n",
    "\n",
    "        self.data_x = data[border1:border2]\n",
    "        self.data_y = data[border1:border2]\n",
    "        self.data_stamp = data_stamp\n",
    "    \n",
    "    def __getitem__(self, index):\n",
    "        s_begin = index\n",
    "        s_end = s_begin + self.seq_len\n",
    "        r_begin = s_end - self.label_len\n",
    "        r_end = r_begin + self.label_len + self.pred_len\n",
    "\n",
    "        seq_x = self.data_x[s_begin:s_end]\n",
    "        seq_y = self.data_y[r_begin:r_end]\n",
    "        seq_x_mark = self.data_stamp[s_begin:s_end]\n",
    "        seq_y_mark = self.data_stamp[r_begin:r_end]\n",
    "        return seq_x, seq_y, seq_x_mark, seq_y_mark\n",
    "\n",
    "    def __len__(self):\n",
    "        return len(self.data_x) - self.seq_len- self.pred_len + 1"
   ]
  },
  {
   "cell_type": "code",
   "execution_count": 6,
   "metadata": {},
   "outputs": [
    {
     "name": "stdout",
     "output_type": "stream",
     "text": [
      "train_size: 40745\n",
      "validation_size: 17462\n",
      "test_size: 73629\n"
     ]
    }
   ],
   "source": [
    "window_size = 100\n",
    "batch_size = 512\n",
    "horizon = 10\n",
    "\n",
    "train_dataset = ReconForecastDataset(x_train, window_size, horizon)\n",
    "indices = torch.arange(len(train_dataset)-horizon)\n",
    "train_dataset = torch.utils.data.Subset(train_dataset, indices)\n",
    "test_dataset = ReconForecastDataset(x_test, window_size, horizon)\n",
    "\n",
    "train_loader, val_loader, test_loader = create_data_loaders(train_dataset, batch_size, val_split=0.3, shuffle=False, test_dataset=test_dataset)"
   ]
  },
  {
   "cell_type": "code",
   "execution_count": 7,
   "metadata": {},
   "outputs": [],
   "source": [
    "from time import time\n",
    "\n",
    "def train(dataloader, model, batch_size, n_epochs):\n",
    "    # dataloader = DataLoader(dataset, batch_size=batch_size, shuffle=True, drop_last=True)\n",
    "    optimizer = torch.optim.AdamW(model.parameters())\n",
    "    loss_fn = torch.nn.MSELoss()\n",
    "    epochs = range(n_epochs)\n",
    "    best = {\"loss\": sys.float_info.max}\n",
    "    loss_history = []\n",
    "    for e in epochs:\n",
    "        epoch_loss = 0\n",
    "        for i, (x,y) in enumerate(dataloader):  \n",
    "            optimizer.zero_grad()\n",
    "            x = x.cuda()\n",
    "            # guess = model(given,given)  # Transformer\n",
    "            enc_output, guess = model(x)  # AE\n",
    "            y = y.cuda()\n",
    "            loss = loss_fn(y, guess)\n",
    "            loss.backward()\n",
    "            epoch_loss += loss.item()\n",
    "            optimizer.step()\n",
    "        loss_history.append(epoch_loss)\n",
    "#         epochs.set_postfix_str(f\"loss: {epoch_loss:.6f}\")\n",
    "        \n",
    "        print(f'Training loss EPOCH: [{e+1}|{len(epochs)}], training loss: [{epoch_loss}]')\n",
    "        if epoch_loss < best[\"loss\"]:\n",
    "            best[\"state\"] = model.state_dict()\n",
    "            best[\"loss\"] = epoch_loss\n",
    "            best[\"epoch\"] = e + 1\n",
    "    return best, loss_history\n",
    "\n",
    "\n",
    "def train_DNN(dataloader, model, batch_size, n_epochs):\n",
    "    # dataloader = DataLoader(dataset, batch_size=batch_size, shuffle=True, drop_last=True)\n",
    "    optimizer = torch.optim.AdamW(model.parameters())\n",
    "    loss_fn = torch.nn.MSELoss()\n",
    "    epochs = range(n_epochs)\n",
    "    best = {\"loss\": sys.float_info.max}\n",
    "    loss_history = []\n",
    "    for e in epochs:\n",
    "        epoch_loss = 0\n",
    "        for i, (x,y) in enumerate(dataloader):  \n",
    "            optimizer.zero_grad()\n",
    "            x = x.reshape(x.shape[0], x.shape[1]*x.shape[2]).cuda()\n",
    "            # guess = model(given,given)  # Transformer\n",
    "            enc_output, guess = model(x)  # AE\n",
    "            y = y.reshape(y.shape[0], y.shape[1]*y.shape[2]).cuda()\n",
    "            loss = loss_fn(y, guess)\n",
    "            loss.backward()\n",
    "            epoch_loss += loss.item()\n",
    "            optimizer.step()\n",
    "        loss_history.append(epoch_loss)\n",
    "#         epochs.set_postfix_str(f\"loss: {epoch_loss:.6f}\")\n",
    "        \n",
    "        print(f'Training loss EPOCH: [{e+1}|{len(epochs)}], training loss: [{epoch_loss}]')\n",
    "        if epoch_loss < best[\"loss\"]:\n",
    "            best[\"state\"] = model.state_dict()\n",
    "            best[\"loss\"] = epoch_loss\n",
    "            best[\"epoch\"] = e + 1\n",
    "    return best, loss_history\n",
    "\n",
    "\n",
    "def train_transformer(dataloader, model, batch_size, n_epochs):\n",
    "    optimizer = torch.optim.AdamW(model.parameters())\n",
    "    \n",
    "    loss_fn_AE = torch.nn.MSELoss()\n",
    "    loss_fn_transformer = torch.nn.MSELoss()\n",
    "\n",
    "    epochs = range(n_epochs)\n",
    "    best = {\"loss\": sys.float_info.max}\n",
    "    loss_history, loss_history_AE, loss_history_TF = [], [], []\n",
    "    for e in epochs:\n",
    "        start = time()\n",
    "        epoch_loss = 0\n",
    "        epoch_loss_AE = 0\n",
    "        epoch_loss_transformer = 0\n",
    "        for i, (x,y) in enumerate(dataloader):  \n",
    "            optimizer.zero_grad()\n",
    "            x = x.cuda()\n",
    "            sal, dec_x, out = model(x)\n",
    "            y = y.cuda()\n",
    "            loss_AE = loss_fn_AE(y, dec_x)\n",
    "            loss_transformer = loss_fn_transformer(y, out)\n",
    "            loss = loss_AE + loss_transformer\n",
    "            loss.backward()\n",
    "            epoch_loss += loss.item()\n",
    "            epoch_loss_AE += loss_AE.item()\n",
    "            epoch_loss_transformer += loss_transformer.item()\n",
    "            optimizer.step()\n",
    "        loss_history.append(epoch_loss)\n",
    "        loss_history_AE.append(epoch_loss_AE)\n",
    "        loss_history_TF.append(epoch_loss_transformer)\n",
    "\n",
    "#         epochs.set_postfix_str(f\"loss: {epoch_loss:.6f}\")\n",
    "        \n",
    "        print(f'Training loss EPOCH: [{e+1}|{len(epochs)}], training loss: [{epoch_loss}], AE loss: [{epoch_loss_AE}], TF loss: [{epoch_loss_transformer}] took', time()-start)\n",
    "        if epoch_loss < best[\"loss\"]:\n",
    "            best[\"state\"] = model.state_dict()\n",
    "            best[\"loss\"] = epoch_loss\n",
    "            best[\"loss_AE\"] = epoch_loss_AE\n",
    "            best[\"loss_TF\"] = epoch_loss_transformer\n",
    "            best[\"epoch\"] = e + 1\n",
    "    return best, loss_history, loss_history_AE, loss_history_TF\n",
    "\n",
    "\n",
    "def train_SCI(dataloader, model, batch_size, n_epochs):\n",
    "    optimizer = torch.optim.AdamW(model.parameters())\n",
    "    \n",
    "    loss_fn_AE = torch.nn.MSELoss()\n",
    "    loss_fn_sci = torch.nn.MSELoss()\n",
    "\n",
    "    epochs = range(n_epochs)\n",
    "    best = {\"loss\": sys.float_info.max}\n",
    "    loss_history, loss_history_AE, loss_history_TF = [], [], []\n",
    "    for e in epochs:\n",
    "        start = time()\n",
    "        epoch_loss = 0\n",
    "        epoch_loss_AE = 0\n",
    "        epoch_loss_sci = 0\n",
    "        for i, (x,y_recon,y_fore) in enumerate(dataloader):  \n",
    "            optimizer.zero_grad()\n",
    "            x = x.cuda()\n",
    "            y_recon = y_recon.cuda()\n",
    "            y_fore = y_fore.cuda()\n",
    "            sal, dec_x, out = model(x)\n",
    "            \n",
    "            loss_AE = loss_fn_AE(y_recon, dec_x)\n",
    "            loss_sci = loss_fn_sci(y_fore, out)\n",
    "            loss = loss_AE + loss_sci\n",
    "            loss.backward()\n",
    "            epoch_loss += loss.item()\n",
    "            epoch_loss_AE += loss_AE.item()\n",
    "            epoch_loss_sci += loss_sci.item()\n",
    "            optimizer.step()\n",
    "        loss_history.append(epoch_loss)\n",
    "        loss_history_AE.append(epoch_loss_AE)\n",
    "        loss_history_TF.append(epoch_loss_sci)\n",
    "\n",
    "#         epochs.set_postfix_str(f\"loss: {epoch_loss:.6f}\")\n",
    "        \n",
    "        print(f'Training loss EPOCH: [{e+1}|{len(epochs)}], training loss: [{epoch_loss}], AE loss: [{epoch_loss_AE}], TF loss: [{epoch_loss_sci}] took', time()-start)\n",
    "        if epoch_loss < best[\"loss\"]:\n",
    "            best[\"state\"] = model.state_dict()\n",
    "            best[\"loss\"] = epoch_loss\n",
    "            best[\"loss_AE\"] = epoch_loss_AE\n",
    "            best[\"loss_TF\"] = epoch_loss_sci\n",
    "            best[\"epoch\"] = e + 1\n",
    "    return best, loss_history, loss_history_AE, loss_history_TF\n",
    " \n",
    "\n",
    "def train_model(dataloader, val_loader, model, batch_size, n_epochs, model_name):\n",
    "    optimizer = torch.optim.AdamW(model.parameters())\n",
    "    \n",
    "    loss_fn_AE = torch.nn.MSELoss()\n",
    "    loss_fn_sci = torch.nn.MSELoss()\n",
    "\n",
    "    epochs = range(n_epochs)\n",
    "    best = {\"loss\": sys.float_info.max}\n",
    "    loss_history, loss_history_AE, loss_history_TF = [], [], []\n",
    "    val_loss_history, val_loss_history_AE, val_loss_history_TF = [], [], []\n",
    "    for e in epochs:\n",
    "        model.train()\n",
    "        start = time()\n",
    "        epoch_loss = 0\n",
    "        epoch_loss_AE = 0\n",
    "        epoch_loss_sci = 0\n",
    "        for i, (x,y_recon,y_fore) in enumerate(dataloader):  \n",
    "            optimizer.zero_grad()\n",
    "            x = x.cuda()\n",
    "            y_recon = y_recon.cuda()\n",
    "            y_fore = y_fore.cuda()\n",
    "            sal, dec_x, out = model(x)\n",
    "            \n",
    "            loss_AE = loss_fn_AE(y_recon, dec_x)\n",
    "            loss_sci = loss_fn_sci(y_fore, out)\n",
    "            loss = loss_AE + loss_sci\n",
    "            loss.backward()\n",
    "            epoch_loss += loss.item()\n",
    "            epoch_loss_AE += loss_AE.item()\n",
    "            epoch_loss_sci += loss_sci.item()\n",
    "            optimizer.step()\n",
    "        loss_history.append(epoch_loss)\n",
    "        loss_history_AE.append(epoch_loss_AE)\n",
    "        loss_history_TF.append(epoch_loss_sci)\n",
    "\n",
    "#         epochs.set_postfix_str(f\"loss: {epoch_loss:.6f}\")\n",
    "        \n",
    "        # Validation step\n",
    "        model.eval()\n",
    "        val_epoch_loss = 0\n",
    "        val_epoch_loss_AE = 0\n",
    "        val_epoch_loss_sci = 0\n",
    "        with torch.no_grad():\n",
    "            for i, (x,y_recon,y_fore) in enumerate(val_loader):  \n",
    "                x = x.cuda()\n",
    "                y_recon = y_recon.cuda()\n",
    "                y_fore = y_fore.cuda()\n",
    "                sal, dec_x, out = model(x)\n",
    "\n",
    "                valloss_AE = loss_fn_AE(y_recon, dec_x)\n",
    "                valloss_sci = loss_fn_sci(y_fore, out)\n",
    "                valloss = valloss_AE + valloss_sci\n",
    "                \n",
    "                val_epoch_loss += valloss.item()\n",
    "                val_epoch_loss_AE += valloss_AE.item()\n",
    "                val_epoch_loss_sci += valloss_sci.item()\n",
    "                \n",
    "                val_loss_history.append(val_epoch_loss)\n",
    "                val_loss_history_AE.append(val_epoch_loss_AE)\n",
    "                val_loss_history_TF.append(val_epoch_loss_sci)  \n",
    "\n",
    "        print(f'Training loss EPOCH: [{e+1}|{len(epochs)}], training loss: [{epoch_loss}], AE loss: [{epoch_loss_AE}], TF loss: [{epoch_loss_sci}] took', time()-start)\n",
    "        print(f'Validation loss EPOCH: [{e+1}|{len(epochs)}], validation loss: [{val_epoch_loss}], AE loss: [{val_epoch_loss_AE}], TF loss: [{val_epoch_loss_sci}]')\n",
    "        if val_epoch_loss < best[\"loss\"]:\n",
    "            best[\"state\"] = model.state_dict()\n",
    "            best[\"loss\"] = val_epoch_loss\n",
    "            best[\"loss_AE\"] = val_epoch_loss_AE\n",
    "            best[\"loss_TF\"] = val_epoch_loss_sci\n",
    "            best[\"epoch\"] = e + 1\n",
    "            with open(\"result/model_\" + model_name + \"_best.pt\", \"wb\") as f:\n",
    "                torch.save(\n",
    "                    {\n",
    "                        \"state\": best[\"state\"],\n",
    "                        \"best_epoch\": best[\"epoch\"],\n",
    "                        \"loss_history\": val_loss_history,\n",
    "                        \"loss_AE_history\": val_loss_history_AE,\n",
    "                        \"loss_TF_history\": val_loss_history_TF,\n",
    "                    },\n",
    "                    f,\n",
    "                )\n",
    "\n",
    "    # Save last epoch\n",
    "    with open(\"result/model_\" + model_name + \"_last.pt\", \"wb\") as f:\n",
    "        torch.save(\n",
    "            {\n",
    "                \"state\": model.state_dict(),\n",
    "                \"best_epoch\": e + 1,\n",
    "                \"loss_history\": val_loss_history,\n",
    "                \"loss_AE_history\": val_loss_history_AE,\n",
    "                \"loss_TF_history\": val_loss_history_TF,\n",
    "            },\n",
    "            f,\n",
    "        )\n",
    "\n",
    "    return best, loss_history, loss_history_AE, loss_history_TF\n",
    " "
   ]
  },
  {
   "cell_type": "code",
   "execution_count": 8,
   "metadata": {},
   "outputs": [
    {
     "name": "stdout",
     "output_type": "stream",
     "text": [
      "21\n"
     ]
    },
    {
     "data": {
      "text/plain": [
       "<All keys matched successfully>"
      ]
     },
     "execution_count": 8,
     "metadata": {},
     "output_type": "execute_result"
    }
   ],
   "source": [
    "model_name = 'SalGATConvGRUwoAll_saliency_MSL'\n",
    "with open(\"result/model_\" + model_name + \"_best.pt\", \"rb\") as f:\n",
    "    SAVED_MODEL = torch.load(f)\n",
    "\n",
    "print(SAVED_MODEL['best_epoch'])\n",
    "\n",
    "# MODEL = SalGATSCINet(seq_len=window_size, n_features=x_train.shape[1], out_n_features=x_train.shape[1], embedding_dim=int(x_train.shape[1]/2), kernel_size=3, cell='gru')\n",
    "# MODEL = SalGATSCINetV2(seq_len=window_size, n_features=x_train.shape[1], out_n_features=x_train.shape[1], embedding_dim=int(x_train.shape[1]/2), kernel_size=3, cell='gru')\n",
    "# MODEL = SalGATConvLSTM(seq_len=window_size, n_features=x_train.shape[1], out_n_features=x_train.shape[1], embedding_dim=int(x_train.shape[1]/2), kernel_size=3, cell='gru')\n",
    "# MODEL = SalGATConvGRU(seq_len=window_size, output_len=10, n_features=x_train.shape[1], out_n_features=x_train.shape[1], embedding_dim=int(x_train.shape[1]/2), kernel_size=3, cell='gru')\n",
    "# MODEL = SalGATConvGRUwoSal(seq_len=window_size, output_len=10, n_features=x_train.shape[1], out_n_features=x_train.shape[1], embedding_dim=int(x_train.shape[1]/2), kernel_size=3, cell='gru')\n",
    "MODEL = SalConvGRUwoALL(seq_len=window_size, output_len=10, n_features=x_train.shape[1], out_n_features=x_train.shape[1], embedding_dim=int(x_train.shape[1]/2), kernel_size=3, cell='gru')\n",
    "\n",
    "MODEL.cuda()    \n",
    "MODEL.load_state_dict(SAVED_MODEL[\"state\"])\n"
   ]
  },
  {
   "cell_type": "code",
   "execution_count": 9,
   "metadata": {},
   "outputs": [
    {
     "data": {
      "image/png": "[encoded data removed]",
      "text/plain": [
       "<Figure size 1152x288 with 1 Axes>"
      ]
     },
     "metadata": {
      "needs_background": "light"
     },
     "output_type": "display_data"
    }
   ],
   "source": [
    "from matplotlib import pyplot as plt\n",
    "plt.figure(figsize=(16, 4))\n",
    "plt.title(\"Training Loss Graph\")\n",
    "plt.xlabel(\"epochs\")\n",
    "plt.ylabel(\"loss\")\n",
    "plt.yscale(\"log\")\n",
    "plt.plot(SAVED_MODEL[\"loss_history\"], label='loss')\n",
    "plt.plot(SAVED_MODEL[\"loss_AE_history\"], label='AE loss')\n",
    "plt.plot(SAVED_MODEL[\"loss_TF_history\"], label='TF loss')\n",
    "plt.legend()\n",
    "plt.show()"
   ]
  },
  {
   "cell_type": "code",
   "execution_count": 10,
   "metadata": {},
   "outputs": [],
   "source": [
    "def inference(dataloader, model, batch_size, TF_alpha):\n",
    "    dist, dist_sal, fin_dist, guess, sal_list = [], [], [], [], []\n",
    "    mse = torch.nn.MSELoss()\n",
    "    model.eval()\n",
    "    with torch.no_grad():\n",
    "        for i, (x,y) in enumerate(dataloader):\n",
    "            x = x.cuda()\n",
    "            y = y.cuda()\n",
    "            \n",
    "            sal, dec_x, out = model(x)\n",
    "            \n",
    "            for y_s, d, o in zip(y, dec_x, out):\n",
    "                dist_sal.append(torch.sum(torch.abs(y_s - d)).cpu().numpy())\n",
    "                # dist_sal.append(mse(y_s,d).item())\n",
    "                # dist_sal.append(torch.cdist(y_s, d, p=2.0).cpu().numpy())  \n",
    "                \n",
    "                dist.append(torch.sum(torch.abs(y_s - o)).cpu().numpy())\n",
    "                # dist.append(mse(y_s, o).item())\n",
    "                # dist.append(torch.cdist(y_s, o, p=2.0).cpu().numpy())  \n",
    "\n",
    "                fin_dist.append((1-TF_alpha)*torch.sum(torch.abs(y_s - d)).cpu().numpy() + TF_alpha*torch.sum(torch.abs(y_s - o)).cpu().numpy())\n",
    "                # fin_dist.append((1-TF_alpha)*mse(y_s,d).item() + TF_alpha*mse(y_s, o).item())\n",
    "                # fin_dist.append((TF_alpha*torch.cdist(y_s, o, p=2.0) + (1-TF_alpha)*torch.cdist(y_s, d, p=2.0)).cpu().numpy())\n",
    "\n",
    "            guess.append(out.cpu().numpy())\n",
    "            sal_list.append(sal.cpu().numpy())\n",
    "        \n",
    "            \n",
    "    return (\n",
    "        dist,\n",
    "        dist_sal,\n",
    "        fin_dist,\n",
    "        np.concatenate(guess),\n",
    "        np.concatenate(sal_list)\n",
    "    )\n",
    "\n",
    "\n",
    "def inference_SAL(dataloader, model, batch_size, TF_alpha):\n",
    "    dist, dist_sal, fin_dist1, fin_dist2, guess, sal_list = [], [], [], [], [], []\n",
    "    mse = torch.nn.MSELoss()\n",
    "    model.eval()\n",
    "    with torch.no_grad():\n",
    "        for i, (x,y_recon,y_fore) in enumerate(dataloader):\n",
    "            x = x.cuda()\n",
    "            y_recon = y_recon.cuda()\n",
    "            y_fore = y_fore.cuda()\n",
    "            \n",
    "            sal, dec_x, out = model(x)\n",
    "            \n",
    "            for y_r, y_f, d, o in zip(y_recon, y_fore, dec_x, out):\n",
    "                d_s = torch.sum(torch.square(y_r - d)).cpu().numpy()\n",
    "                d_o = torch.sum(torch.square(y_f - o)).cpu().numpy()\n",
    "                # d_s = torch.mean(torch.square(y_r - d)).cpu().numpy()\n",
    "                # d_o = torch.mean(torch.square(y_f - o)).cpu().numpy()\n",
    "                \n",
    "                dist_sal.append(d_s)\n",
    "                dist.append(d_o)\n",
    "\n",
    "                # inference_score1 = (d_s + d_o)/(1+TF_alpha)\n",
    "                inference_score1 = ((1-TF_alpha)*d_s + TF_alpha*d_o)/(1+TF_alpha)\n",
    "                inference_score2 = (d_s + TF_alpha*d_o)/(1+TF_alpha)\n",
    "                fin_dist1.append(inference_score1)\n",
    "                fin_dist2.append(inference_score2)\n",
    "                # fin_dist.append((1-TF_alpha)*mse(y_s,d).item() + TF_alpha*mse(y_s, o).item())\n",
    "                # fin_dist.append((TF_alpha*torch.cdist(y_s, o, p=2.0) + (1-TF_alpha)*torch.cdist(y_s, d, p=2.0)).cpu().numpy())\n",
    "\n",
    "            guess.append(out.cpu().numpy())\n",
    "            sal_list.append(sal.cpu().numpy())\n",
    "        \n",
    "            \n",
    "    return (\n",
    "        dist,\n",
    "        dist_sal,\n",
    "        fin_dist1,\n",
    "        fin_dist2,\n",
    "        np.concatenate(guess),\n",
    "        np.concatenate(sal_list)\n",
    "    )\n",
    "\n",
    "\n",
    "def inference_DNN(dataloader, model, batch_size):\n",
    "    ts, dist, att, guess_res, enc_list = [], [], [], [], []\n",
    "    mse = torch.nn.MSELoss()\n",
    "    with torch.no_grad():\n",
    "        for i, (x,y) in enumerate(dataloader):  \n",
    "            x = x.reshape(x.shape[0], x.shape[1]*x.shape[2]).cuda()\n",
    "            y = y.reshape(y.shape[0], y.shape[1]*y.shape[2]).cuda()\n",
    "            enc, guess = model(x)\n",
    "            \n",
    "            for y_s, g in zip(y, guess):\n",
    "                dist.append(torch.sum(torch.abs(y_s - g)).cpu().numpy())  # Normal GRU\n",
    "\n",
    "            guess_res.append(guess.cpu().numpy())\n",
    "            enc_list.append(enc.cpu().numpy())\n",
    "        \n",
    "            \n",
    "    return (\n",
    "        dist,\n",
    "        np.concatenate(guess_res),\n",
    "        np.concatenate(enc_list)\n",
    "    )"
   ]
  },
  {
   "cell_type": "markdown",
   "metadata": {},
   "source": [
    "### Inference"
   ]
  },
  {
   "cell_type": "code",
   "execution_count": 11,
   "metadata": {},
   "outputs": [
    {
     "name": "stdout",
     "output_type": "stream",
     "text": [
      "CPU times: user 15min 1s, sys: 27.2 s, total: 15min 28s\n",
      "Wall time: 23.2 s\n"
     ]
    },
    {
     "data": {
      "text/plain": [
       "0.6021214114845479"
      ]
     },
     "execution_count": 11,
     "metadata": {},
     "output_type": "execute_result"
    }
   ],
   "source": [
    "%%time\n",
    "from sklearn import metrics\n",
    "\n",
    "MODEL.eval()\n",
    "alpha = 1.0\n",
    "DIST, DIST_SAL, FIN_DIST1, FIN_DIST2, GUESS, SAL_LIST = inference_SAL(test_loader, MODEL, batch_size, TF_alpha=alpha)\n",
    "DIST_train, DIST_SAL_train, FIN_DIST1_train, FIN_DIST2_train, GUESS_train, SAL_LIST_train = inference_SAL(train_loader, MODEL, batch_size, TF_alpha=alpha)\n",
    "\n",
    "# anomaly score of test dataset\n",
    "res = SAL_LIST[:,-1:,:]\n",
    "res = res.reshape(res.shape[0], res.shape[2])\n",
    "res_mean = np.mean(res, axis=1)\n",
    "FD1wSAL = np.array(FIN_DIST1)*res_mean\n",
    "\n",
    "# anomaly score of train dataset --> to calculate the threshold\n",
    "res_train = SAL_LIST_train[:,-1:,:]\n",
    "res_train = res_train.reshape(res_train.shape[0], res_train.shape[2])\n",
    "res_mean_train = np.mean(res_train, axis=1)\n",
    "FD1wSAL_train = np.array(FIN_DIST1_train)*res_mean_train\n",
    "\n",
    "\n",
    "fpr, tpr, thresholds = metrics.roc_curve(y_test[-len(FD1wSAL):].astype(int), FD1wSAL, pos_label=1)\n",
    "metrics.auc(fpr, tpr)"
   ]
  },
  {
   "cell_type": "markdown",
   "metadata": {},
   "source": [
    "### Anomaly Score"
   ]
  },
  {
   "cell_type": "code",
   "execution_count": 79,
   "metadata": {},
   "outputs": [],
   "source": [
    "# anomaly score of test dataset\n",
    "res = SAL_LIST[:,-1:,:]\n",
    "res = res.reshape(res.shape[0], res.shape[2])\n",
    "res_mean = np.mean(res, axis=1)\n",
    "FD1wSAL = np.array(FIN_DIST1)*res_mean\n",
    "\n",
    "# anomaly score of train dataset --> to calculate the threshold\n",
    "res_train = SAL_LIST_train[:,-1:,:]\n",
    "res_train = res_train.reshape(res_train.shape[0], res_train.shape[2])\n",
    "res_mean_train = np.mean(res_train, axis=1)\n",
    "FD1wSAL_train = np.array(FIN_DIST1_train)*res_mean_train"
   ]
  },
  {
   "cell_type": "markdown",
   "metadata": {},
   "source": [
    "### Plot Saliency Map"
   ]
  },
  {
   "cell_type": "code",
   "execution_count": 13,
   "metadata": {},
   "outputs": [
    {
     "data": {
      "text/plain": [
       "<AxesSubplot:>"
      ]
     },
     "execution_count": 13,
     "metadata": {},
     "output_type": "execute_result"
    },
    {
     "data": {
      "image/png": "[encoded data removed]",
      "text/plain": [
       "<Figure size 720x216 with 1 Axes>"
      ]
     },
     "metadata": {},
     "output_type": "display_data"
    }
   ],
   "source": [
    "import seaborn as sns\n",
    "sns.set_theme(style=\"darkgrid\")\n",
    "\n",
    "plt.figure(figsize=(10,3))\n",
    "res_plot = SAL_LIST[:,-1:,:]\n",
    "res_plot = res_plot.reshape(res_plot.shape[0], res_plot.shape[2])\n",
    "res_plot_mean = np.mean(res_plot, axis=1)\n",
    "# plt.plot(res_plot_mean) \n",
    "# plt.plot(x_test[:,1:2])\n",
    "# plt.plot(y_test*-1) \n",
    "\n",
    "\n",
    "sns.lineplot(data=res_plot_mean, legend=False)\n",
    "# sns.lineplot(data=x_test, legend=False)\n"
   ]
  },
  {
   "cell_type": "code",
   "execution_count": 14,
   "metadata": {},
   "outputs": [
    {
     "data": {
      "text/plain": [
       "[<matplotlib.lines.Line2D at 0x7fcf4d0bd910>]"
      ]
     },
     "execution_count": 14,
     "metadata": {},
     "output_type": "execute_result"
    },
    {
     "data": {
      "image/png": "[encoded data removed]",
      "text/plain": [
       "<Figure size 720x216 with 1 Axes>"
      ]
     },
     "metadata": {},
     "output_type": "display_data"
    }
   ],
   "source": [
    "from matplotlib import pyplot as plt \n",
    "plt.figure(figsize=(10,3))\n",
    "total_len = len(x_test)\n",
    "\n",
    "plt.plot(x_test[:total_len])\n",
    "plt.plot(y_test[:total_len]*-1)"
   ]
  },
  {
   "cell_type": "code",
   "execution_count": 46,
   "metadata": {},
   "outputs": [],
   "source": [
    "from spot import SPOT, dSPOT\n",
    "def adjust_predicts(score, label, threshold, pred=None, calc_latency=False):\n",
    "    \"\"\"\n",
    "    Calculate adjusted predict labels using given `score`, `threshold` (or given `pred`) and `label`.\n",
    "    Args:\n",
    "            score (np.ndarray): The anomaly score\n",
    "            label (np.ndarray): The ground-truth label\n",
    "            threshold (float): The threshold of anomaly score.\n",
    "                    A point is labeled as \"anomaly\" if its score is lower than the threshold.\n",
    "            pred (np.ndarray or None): if not None, adjust `pred` and ignore `score` and `threshold`,\n",
    "            calc_latency (bool):\n",
    "    Returns:\n",
    "            np.ndarray: predict labels\n",
    "\n",
    "    Method from OmniAnomaly (https://github.com/NetManAIOps/OmniAnomaly)\n",
    "    \"\"\"\n",
    "    if label is None:\n",
    "        predict = score > threshold\n",
    "        return predict, None\n",
    "\n",
    "    if pred is None:\n",
    "        if len(score) != len(label):\n",
    "            raise ValueError(\"score and label must have the same length\")\n",
    "        predict = score > threshold\n",
    "    else:\n",
    "        predict = pred\n",
    "\n",
    "    actual = label > 0.1\n",
    "    anomaly_state = False\n",
    "    anomaly_count = 0\n",
    "    latency = 0\n",
    "\n",
    "    for i in range(len(predict)):\n",
    "        if any(actual[max(i, 0) : i + 1]) and predict[i] and not anomaly_state:\n",
    "            anomaly_state = True\n",
    "            anomaly_count += 1\n",
    "            for j in range(i, 0, -1):\n",
    "                if not actual[j]:\n",
    "                    break\n",
    "                else:\n",
    "                    if not predict[j]:\n",
    "                        predict[j] = True\n",
    "                        latency += 1\n",
    "        elif not actual[i]:\n",
    "            anomaly_state = False\n",
    "        if anomaly_state:\n",
    "            predict[i] = True\n",
    "    if calc_latency:\n",
    "        return predict, latency / (anomaly_count + 1e-4)\n",
    "    else:\n",
    "        return predict\n",
    "\n",
    "def calc_point2point(predict, actual):\n",
    "    \"\"\"\n",
    "    calculate f1 score by predict and actual.\n",
    "    Args:\n",
    "            predict (np.ndarray): the predict label\n",
    "            actual (np.ndarray): np.ndarray\n",
    "    Method from OmniAnomaly (https://github.com/NetManAIOps/OmniAnomaly)\n",
    "    \"\"\"\n",
    "    TP = np.sum(predict * actual)\n",
    "    TN = np.sum((1 - predict) * (1 - actual))\n",
    "    FP = np.sum(predict * (1 - actual))\n",
    "    FN = np.sum((1 - predict) * actual)\n",
    "    precision = TP / (TP + FP + 0.00001)\n",
    "    recall = TP / (TP + FN + 0.00001)\n",
    "    f1 = 2 * precision * recall / (precision + recall + 0.00001)\n",
    "    return f1, precision, recall, TP, TN, FP, FN\n",
    "\n",
    "def pot_eval(init_score, score, label, q=1e-3, level=0.99, dynamic=False):\n",
    "    \"\"\"\n",
    "    Run POT method on given score.\n",
    "    :param init_score (np.ndarray): The data to get init threshold.\n",
    "                    For `OmniAnomaly`, it should be the anomaly score of train set.\n",
    "    :param: score (np.ndarray): The data to run POT method.\n",
    "                    For `OmniAnomaly`, it should be the anomaly score of test set.\n",
    "    :param label (np.ndarray): boolean list of true anomalies in score\n",
    "    :param q (float): Detection level (risk)\n",
    "    :param level (float): Probability associated with the initial threshold t\n",
    "    :return dict: pot result dict\n",
    "    Method from OmniAnomaly (https://github.com/NetManAIOps/OmniAnomaly)\n",
    "    \"\"\"\n",
    "\n",
    "    print(f\"Running POT with q={q}, level={level}..\")\n",
    "    s = SPOT(q)  # SPOT object\n",
    "    s.fit(init_score, score)\n",
    "    s.initialize(level=level, min_extrema=False)  # Calibration step\n",
    "    ret = s.run(dynamic=dynamic, with_alarm=False)\n",
    "\n",
    "    print(len(ret[\"alarms\"]))\n",
    "    print(len(ret[\"thresholds\"]))\n",
    "\n",
    "    pot_th = np.mean(ret[\"thresholds\"])\n",
    "    pred, p_latency = adjust_predicts(score, label, pot_th, calc_latency=True)\n",
    "\n",
    "\n",
    "    # CHANGE HERE TO CHECK THE THRESHOLD\n",
    "    plt.figure(figsize=(10,6))\n",
    "    plt.plot(score)\n",
    "    plt.plot(label*-50)\n",
    "    plt.plot(pred*-50, alpha=0.5)\n",
    "    if dynamic:\n",
    "        plt.plot(ret[\"thresholds\"])\n",
    "    else:\n",
    "        plt.axhline(y=pot_th, color='r', linestyle='-')\n",
    "    plt.axis([-50, len(score)+50, -100, 100])\n",
    "    plt.show()\n",
    "\n",
    "\n",
    "    if label is not None:\n",
    "        p_t = calc_point2point(pred, label)\n",
    "        return {\n",
    "            \"f1\": p_t[0],\n",
    "            \"precision\": p_t[1],\n",
    "            \"recall\": p_t[2],\n",
    "            \"TP\": p_t[3],\n",
    "            \"TN\": p_t[4],\n",
    "            \"FP\": p_t[5],\n",
    "            \"FN\": p_t[6],\n",
    "            \"threshold\": pot_th,\n",
    "            \"latency\": p_latency,\n",
    "        }\n",
    "    else:\n",
    "        return {\n",
    "            \"threshold\": pot_th,\n",
    "        }\n",
    "\n"
   ]
  },
  {
   "cell_type": "code",
   "execution_count": 80,
   "metadata": {},
   "outputs": [
    {
     "name": "stdout",
     "output_type": "stream",
     "text": [
      "[0.00000000e+00 1.52788388e-05 3.74331551e-03 ... 9.99923606e-01\n",
      " 9.99923606e-01 1.00000000e+00]\n"
     ]
    },
    {
     "data": {
      "text/plain": [
       "0.6069360262073598"
      ]
     },
     "execution_count": 80,
     "metadata": {},
     "output_type": "execute_result"
    }
   ],
   "source": [
    "from sklearn import metrics\n",
    "fpr, tpr, thresholds = metrics.roc_curve(y_test[-len(FD1wSAL):].astype(int), FD1wSAL, pos_label=1)\n",
    "print(fpr)\n",
    "metrics.auc(fpr, tpr)"
   ]
  },
  {
   "cell_type": "code",
   "execution_count": 34,
   "metadata": {},
   "outputs": [
    {
     "name": "stdout",
     "output_type": "stream",
     "text": [
      "[0.00000000e+00 1.52788388e-05 1.39037433e-03 ... 9.99755539e-01\n",
      " 9.99755539e-01 1.00000000e+00]\n"
     ]
    },
    {
     "data": {
      "text/plain": [
       "0.6029566540169318"
      ]
     },
     "execution_count": 34,
     "metadata": {},
     "output_type": "execute_result"
    }
   ],
   "source": [
    "from sklearn import metrics\n",
    "fpr, tpr, thresholds = metrics.roc_curve(y_test[-len(FIN_DIST1):].astype(int), FIN_DIST1, pos_label=1)\n",
    "print(fpr)\n",
    "metrics.auc(fpr, tpr)"
   ]
  },
  {
   "cell_type": "code",
   "execution_count": 59,
   "metadata": {},
   "outputs": [
    {
     "name": "stdout",
     "output_type": "stream",
     "text": [
      "Running POT with q=0.1, level=0.35..\n",
      "Initial threshold : 2.4156920186690485\n",
      "Number of peaks : 26291\n",
      "Grimshaw maximum log-likelihood estimation ... [done]\n",
      "\tγ = 0\n",
      "\tσ = 3.435861151824569\n",
      "\tL = 58741.12930006806\n",
      "Extreme quantile (probability = 0.1): 8.846918265119335\n"
     ]
    },
    {
     "name": "stderr",
     "output_type": "stream",
     "text": [
      "100%|██████████| 73216/73216 [00:00<00:00, 2098986.78it/s]"
     ]
    },
    {
     "name": "stdout",
     "output_type": "stream",
     "text": [
      "0\n",
      "73216\n"
     ]
    },
    {
     "name": "stderr",
     "output_type": "stream",
     "text": [
      "\n"
     ]
    },
    {
     "data": {
      "image/png": "[encoded data removed]",
      "text/plain": [
       "<Figure size 720x432 with 1 Axes>"
      ]
     },
     "metadata": {
      "needs_background": "light"
     },
     "output_type": "display_data"
    },
    {
     "data": {
      "text/plain": [
       "{'f1': 0.3105597730791296,\n",
       " 'precision': 0.28036510706320394,\n",
       " 'recall': 0.34805562664427553,\n",
       " 'TP': 2703,\n",
       " 'TN': 58512,\n",
       " 'FP': 6938,\n",
       " 'FN': 5063,\n",
       " 'threshold': 8.84691826511934,\n",
       " 'latency': 79.6916946792717}"
      ]
     },
     "execution_count": 59,
     "metadata": {},
     "output_type": "execute_result"
    }
   ],
   "source": [
    "pot_th = pot_eval(FD1wSAL_train, FD1wSAL, y_test[-len(FD1wSAL):], q=0.1, level=0.35, dynamic=False)\n",
    "pot_th"
   ]
  },
  {
   "cell_type": "code",
   "execution_count": 23,
   "metadata": {},
   "outputs": [
    {
     "name": "stdout",
     "output_type": "stream",
     "text": [
      "Running POT with q=0.001, level=0.91..\n",
      "Initial threshold : 0.5486179983425998\n",
      "Number of peaks : 3640\n",
      "Grimshaw maximum log-likelihood estimation ... [done]\n",
      "\tγ = -0.20705758723562262\n",
      "\tσ = 0.13318247411939813\n",
      "\tL = 4452.057400512555\n",
      "Extreme quantile (probability = 0.001): 0.9384813755048627\n"
     ]
    },
    {
     "name": "stderr",
     "output_type": "stream",
     "text": [
      "100%|██████████| 73216/73216 [00:00<00:00, 2201820.89it/s]\n"
     ]
    },
    {
     "name": "stdout",
     "output_type": "stream",
     "text": [
      "0\n",
      "73216\n",
      "Running POT with q=0.001, level=0.92..\n",
      "Initial threshold : 0.5641060007071985\n",
      "Number of peaks : 3235\n",
      "Grimshaw maximum log-likelihood estimation ... [done]\n",
      "\tγ = -0.20742986660162188\n",
      "\tσ = 0.13003835333822056\n",
      "\tL = 4035.195731429075\n",
      "Extreme quantile (probability = 0.001): 0.9383898367511323\n"
     ]
    },
    {
     "name": "stderr",
     "output_type": "stream",
     "text": [
      "100%|██████████| 73216/73216 [00:00<00:00, 2137781.41it/s]"
     ]
    },
    {
     "name": "stdout",
     "output_type": "stream",
     "text": [
      "0\n",
      "73216\n"
     ]
    },
    {
     "name": "stderr",
     "output_type": "stream",
     "text": [
      "\n"
     ]
    },
    {
     "name": "stdout",
     "output_type": "stream",
     "text": [
      "Running POT with q=0.001, level=0.93..\n",
      "Initial threshold : 0.5794960746923863\n",
      "Number of peaks : 2831\n",
      "Grimshaw maximum log-likelihood estimation ... [done]\n",
      "\tγ = -0.2256624814530236\n",
      "\tσ = 0.13059087688391113\n",
      "\tL = 3570.877324474748\n",
      "Extreme quantile (probability = 0.001): 0.9363271145451492\n"
     ]
    },
    {
     "name": "stderr",
     "output_type": "stream",
     "text": [
      "100%|██████████| 73216/73216 [00:00<00:00, 1800555.61it/s]\n"
     ]
    },
    {
     "name": "stdout",
     "output_type": "stream",
     "text": [
      "0\n",
      "73216\n",
      "Running POT with q=0.001, level=0.9400000000000001..\n",
      "Initial threshold : 0.5970911108371553\n",
      "Number of peaks : 2426\n",
      "Grimshaw maximum log-likelihood estimation ... [done]\n",
      "\tγ = -0.24160549027679257\n",
      "\tσ = 0.13051388851516288\n",
      "\tL = 3100.1396038046387\n",
      "Extreme quantile (probability = 0.001): 0.9363867413875944\n"
     ]
    },
    {
     "name": "stderr",
     "output_type": "stream",
     "text": [
      "100%|██████████| 73216/73216 [00:00<00:00, 2201457.85it/s]\n"
     ]
    },
    {
     "name": "stdout",
     "output_type": "stream",
     "text": [
      "0\n",
      "73216\n",
      "Running POT with q=0.001, level=0.9500000000000001..\n",
      "Initial threshold : 0.6169699790182293\n",
      "Number of peaks : 2022\n",
      "Grimshaw maximum log-likelihood estimation ... [done]\n",
      "\tγ = -0.26744619048850304\n",
      "\tσ = 0.13191731226813885\n",
      "\tL = 2614.498906397768\n",
      "Extreme quantile (probability = 0.001): 0.936955242530346\n"
     ]
    },
    {
     "name": "stderr",
     "output_type": "stream",
     "text": [
      "100%|██████████| 73216/73216 [00:00<00:00, 2167445.37it/s]\n"
     ]
    },
    {
     "name": "stdout",
     "output_type": "stream",
     "text": [
      "0\n",
      "73216\n",
      "Running POT with q=0.001, level=0.9600000000000001..\n",
      "Initial threshold : 0.6428786018905157\n",
      "Number of peaks : 1617\n",
      "Grimshaw maximum log-likelihood estimation ... [done]\n",
      "\tγ = -0.2824694058851749\n",
      "\tσ = 0.12904622300833735\n",
      "\tL = 2150.697361322789\n",
      "Extreme quantile (probability = 0.001): 0.9385490257511797\n"
     ]
    },
    {
     "name": "stderr",
     "output_type": "stream",
     "text": [
      "100%|██████████| 73216/73216 [00:00<00:00, 2111107.64it/s]\n"
     ]
    },
    {
     "name": "stdout",
     "output_type": "stream",
     "text": [
      "0\n",
      "73216\n",
      "Running POT with q=0.001, level=0.9700000000000001..\n",
      "Initial threshold : 0.6774575833405336\n",
      "Number of peaks : 1213\n",
      "Grimshaw maximum log-likelihood estimation ... [done]\n",
      "\tγ = -0.28918057849879886\n",
      "\tσ = 0.12108075931658834\n",
      "\tL = 1698.7799379074927\n",
      "Extreme quantile (probability = 0.001): 0.9395587146493747\n"
     ]
    },
    {
     "name": "stderr",
     "output_type": "stream",
     "text": [
      "100%|██████████| 73216/73216 [00:00<00:00, 2149798.82it/s]"
     ]
    },
    {
     "name": "stdout",
     "output_type": "stream",
     "text": [
      "0\n",
      "73216\n"
     ]
    },
    {
     "name": "stderr",
     "output_type": "stream",
     "text": [
      "\n"
     ]
    },
    {
     "name": "stdout",
     "output_type": "stream",
     "text": [
      "Running POT with q=0.001, level=0.9800000000000001..\n",
      "Initial threshold : 0.7228735226065481\n",
      "Number of peaks : 808\n",
      "Grimshaw maximum log-likelihood estimation ... [done]\n",
      "\tγ = -0.29789281049822813\n",
      "\tσ = 0.11011635733314912\n",
      "\tL = 1215.3212749665747\n",
      "Extreme quantile (probability = 0.001): 0.9410365599100381\n"
     ]
    },
    {
     "name": "stderr",
     "output_type": "stream",
     "text": [
      "100%|██████████| 73216/73216 [00:00<00:00, 2169175.40it/s]"
     ]
    },
    {
     "name": "stdout",
     "output_type": "stream",
     "text": [
      "0\n",
      "73216\n"
     ]
    },
    {
     "name": "stderr",
     "output_type": "stream",
     "text": [
      "\n"
     ]
    },
    {
     "name": "stdout",
     "output_type": "stream",
     "text": [
      "Running POT with q=0.001, level=0.9900000000000001..\n",
      "Initial threshold : 0.7966207259805174\n",
      "Number of peaks : 404\n",
      "Grimshaw maximum log-likelihood estimation ... [done]\n",
      "\tγ = -0.24639959109773868\n",
      "\tσ = 0.07846245687329197\n",
      "\tL = 723.7799848978402\n",
      "Extreme quantile (probability = 0.001): 0.9344433888936784\n"
     ]
    },
    {
     "name": "stderr",
     "output_type": "stream",
     "text": [
      "100%|██████████| 73216/73216 [00:00<00:00, 2141523.32it/s]"
     ]
    },
    {
     "name": "stdout",
     "output_type": "stream",
     "text": [
      "0\n",
      "73216\n"
     ]
    },
    {
     "name": "stderr",
     "output_type": "stream",
     "text": [
      "\n"
     ]
    },
    {
     "name": "stdout",
     "output_type": "stream",
     "text": [
      "F1 score:  0.3450771573567127\n",
      "q:  0.001\n",
      "level:  0.9800000000000001\n"
     ]
    }
   ],
   "source": [
    "best = 0.0\n",
    "b_q = 1\n",
    "b_level = 1\n",
    "q = 0.001\n",
    "level = 0.0\n",
    "for i in range(99):\n",
    "    level = level + 0.01\n",
    "    pot_th = pot_eval(FD1wSAL_train, FD1wSAL, y_test[-len(FD1wSAL):], q=q, level=level, dynamic=False)\n",
    "    if best < pot_th['f1']:\n",
    "        best = pot_th['f1']\n",
    "        b_q = q\n",
    "        b_level = level\n",
    "\n",
    "print('F1 score: ', pot_th['f1'])\n",
    "print('q: ', b_q)\n",
    "print('level: ', b_level)"
   ]
  },
  {
   "cell_type": "code",
   "execution_count": 21,
   "metadata": {},
   "outputs": [
    {
     "name": "stdout",
     "output_type": "stream",
     "text": [
      "Running POT with q=0.001, level=0.01..\n",
      "Initial threshold : 0.0007990510449161492\n",
      "Number of peaks : 40043\n",
      "Grimshaw maximum log-likelihood estimation ... [done]\n",
      "\tγ = -0.018854165107925702\n",
      "\tσ = 0.20715333596937324\n",
      "\tL = 23751.51232025378\n",
      "Extreme quantile (probability = 0.001): 1.3406660442942202\n"
     ]
    },
    {
     "name": "stderr",
     "output_type": "stream",
     "text": [
      "100%|██████████| 73216/73216 [00:00<00:00, 2131652.77it/s]"
     ]
    },
    {
     "name": "stdout",
     "output_type": "stream",
     "text": [
      "0\n",
      "73216\n",
      "Running POT with q=0.001, level=0.02..\n",
      "Initial threshold : 0.0008376726038121923\n",
      "Number of peaks : 39639\n",
      "Grimshaw maximum log-likelihood estimation ... "
     ]
    },
    {
     "name": "stderr",
     "output_type": "stream",
     "text": [
      "\n"
     ]
    },
    {
     "name": "stdout",
     "output_type": "stream",
     "text": [
      "[done]\n",
      "\tγ = -0.03884816172322947\n",
      "\tσ = 0.2133973819634282\n",
      "\tL = 23127.270304408004\n",
      "Extreme quantile (probability = 0.001): 1.2904135133686605\n"
     ]
    },
    {
     "name": "stderr",
     "output_type": "stream",
     "text": [
      "100%|██████████| 73216/73216 [00:00<00:00, 2136442.87it/s]"
     ]
    },
    {
     "name": "stdout",
     "output_type": "stream",
     "text": [
      "0\n",
      "73216\n",
      "Running POT with q=0.001, level=0.03..\n",
      "Initial threshold : 0.000897761224510657\n",
      "Number of peaks : 39234\n",
      "Grimshaw maximum log-likelihood estimation ... "
     ]
    },
    {
     "name": "stderr",
     "output_type": "stream",
     "text": [
      "\n"
     ]
    },
    {
     "name": "stdout",
     "output_type": "stream",
     "text": [
      "[done]\n",
      "\tγ = -0.08177211990876931\n",
      "\tσ = 0.2248695142267167\n",
      "\tL = 22520.594627509556\n",
      "Extreme quantile (probability = 0.001): 1.1837710738194946\n"
     ]
    },
    {
     "name": "stderr",
     "output_type": "stream",
     "text": [
      "100%|██████████| 73216/73216 [00:00<00:00, 2155033.80it/s]"
     ]
    },
    {
     "name": "stdout",
     "output_type": "stream",
     "text": [
      "0\n",
      "73216\n",
      "Running POT with q=0.001, level=0.04..\n",
      "Initial threshold : 0.0009500010021094157\n",
      "Number of peaks : 38830\n",
      "Grimshaw maximum log-likelihood estimation ... "
     ]
    },
    {
     "name": "stderr",
     "output_type": "stream",
     "text": [
      "\n"
     ]
    },
    {
     "name": "stdout",
     "output_type": "stream",
     "text": [
      "[done]\n",
      "\tγ = -0.10564920945404555\n",
      "\tσ = 0.23243367666995032\n",
      "\tL = 21931.1671376156\n",
      "Extreme quantile (probability = 0.001): 1.1359799561266706\n"
     ]
    },
    {
     "name": "stderr",
     "output_type": "stream",
     "text": [
      "100%|██████████| 73216/73216 [00:00<00:00, 2113883.25it/s]"
     ]
    },
    {
     "name": "stdout",
     "output_type": "stream",
     "text": [
      "0\n",
      "73216\n",
      "Running POT with q=0.001, level=0.05..\n",
      "Initial threshold : 0.0010204700487561613\n",
      "Number of peaks : 38425\n",
      "Grimshaw maximum log-likelihood estimation ... "
     ]
    },
    {
     "name": "stderr",
     "output_type": "stream",
     "text": [
      "\n"
     ]
    },
    {
     "name": "stdout",
     "output_type": "stream",
     "text": [
      "[done]\n",
      "\tγ = -0.13118690766350427\n",
      "\tσ = 0.24059469069463355\n",
      "\tL = 21357.70820227371\n",
      "Extreme quantile (probability = 0.001): 1.0889714025646242\n"
     ]
    },
    {
     "name": "stderr",
     "output_type": "stream",
     "text": [
      "100%|██████████| 73216/73216 [00:00<00:00, 1968779.08it/s]"
     ]
    },
    {
     "name": "stdout",
     "output_type": "stream",
     "text": [
      "0\n",
      "73216\n",
      "Running POT with q=0.001, level=0.060000000000000005..\n",
      "Initial threshold : 0.001093556595646139\n",
      "Number of peaks : 38021\n",
      "Grimshaw maximum log-likelihood estimation ... "
     ]
    },
    {
     "name": "stderr",
     "output_type": "stream",
     "text": [
      "\n"
     ]
    },
    {
     "name": "stdout",
     "output_type": "stream",
     "text": [
      "[done]\n",
      "\tγ = -0.15822557041780705\n",
      "\tσ = 0.24936548014137908\n",
      "\tL = 20799.81530551848\n",
      "Extreme quantile (probability = 0.001): 1.0436053331556905\n"
     ]
    },
    {
     "name": "stderr",
     "output_type": "stream",
     "text": [
      "100%|██████████| 73216/73216 [00:00<00:00, 2148445.19it/s]"
     ]
    },
    {
     "name": "stdout",
     "output_type": "stream",
     "text": [
      "0\n",
      "73216\n",
      "Running POT with q=0.001, level=0.07..\n",
      "Initial threshold : 0.001220933048007744\n",
      "Number of peaks : 37616\n",
      "Grimshaw maximum log-likelihood estimation ... "
     ]
    },
    {
     "name": "stderr",
     "output_type": "stream",
     "text": [
      "\n"
     ]
    },
    {
     "name": "stdout",
     "output_type": "stream",
     "text": [
      "[done]\n",
      "\tγ = -0.18303347538477843\n",
      "\tσ = 0.2577905592058075\n",
      "\tL = 20261.53058205209\n",
      "Extreme quantile (probability = 0.001): 1.006561106347252\n"
     ]
    },
    {
     "name": "stderr",
     "output_type": "stream",
     "text": [
      "100%|██████████| 73216/73216 [00:00<00:00, 2029529.66it/s]"
     ]
    },
    {
     "name": "stdout",
     "output_type": "stream",
     "text": [
      "0\n",
      "73216\n",
      "Running POT with q=0.001, level=0.08..\n",
      "Initial threshold : 0.00139238214718327\n",
      "Number of peaks : 37212\n",
      "Grimshaw maximum log-likelihood estimation ... "
     ]
    },
    {
     "name": "stderr",
     "output_type": "stream",
     "text": [
      "\n"
     ]
    },
    {
     "name": "stdout",
     "output_type": "stream",
     "text": [
      "[done]\n",
      "\tγ = -0.20536331994832202\n",
      "\tσ = 0.2657551970281462\n",
      "\tL = 19742.567076815605\n",
      "Extreme quantile (probability = 0.001): 0.9768215591165523\n"
     ]
    },
    {
     "name": "stderr",
     "output_type": "stream",
     "text": [
      "100%|██████████| 73216/73216 [00:00<00:00, 1905096.73it/s]"
     ]
    },
    {
     "name": "stdout",
     "output_type": "stream",
     "text": [
      "0\n",
      "73216\n",
      "Running POT with q=0.001, level=0.09..\n",
      "Initial threshold : 0.0015642177325339707\n",
      "Number of peaks : 36807\n",
      "Grimshaw maximum log-likelihood estimation ... "
     ]
    },
    {
     "name": "stderr",
     "output_type": "stream",
     "text": [
      "\n"
     ]
    },
    {
     "name": "stdout",
     "output_type": "stream",
     "text": [
      "[done]\n",
      "\tγ = -0.2202231424634803\n",
      "\tσ = 0.2718989783883499\n",
      "\tL = 19233.4178728352\n",
      "Extreme quantile (probability = 0.001): 0.9608588243848923\n"
     ]
    },
    {
     "name": "stderr",
     "output_type": "stream",
     "text": [
      "100%|██████████| 73216/73216 [00:00<00:00, 2154791.86it/s]"
     ]
    },
    {
     "name": "stdout",
     "output_type": "stream",
     "text": [
      "0\n",
      "73216\n",
      "Running POT with q=0.001, level=0.09999999999999999..\n",
      "Initial threshold : 0.001741322800827838\n",
      "Number of peaks : 36403\n",
      "Grimshaw maximum log-likelihood estimation ... "
     ]
    },
    {
     "name": "stderr",
     "output_type": "stream",
     "text": [
      "\n"
     ]
    },
    {
     "name": "stdout",
     "output_type": "stream",
     "text": [
      "[done]\n",
      "\tγ = -0.23882427151320962\n",
      "\tσ = 0.27919071044462646\n",
      "\tL = 18736.0581136959\n",
      "Extreme quantile (probability = 0.001): 0.9404711478689999\n"
     ]
    },
    {
     "name": "stderr",
     "output_type": "stream",
     "text": [
      "100%|██████████| 73216/73216 [00:00<00:00, 2172966.62it/s]"
     ]
    },
    {
     "name": "stdout",
     "output_type": "stream",
     "text": [
      "0\n",
      "73216\n",
      "Running POT with q=0.001, level=0.10999999999999999..\n",
      "Initial threshold : 0.0020137849337037994\n",
      "Number of peaks : 35998\n",
      "Grimshaw maximum log-likelihood estimation ... "
     ]
    },
    {
     "name": "stderr",
     "output_type": "stream",
     "text": [
      "\n"
     ]
    },
    {
     "name": "stdout",
     "output_type": "stream",
     "text": [
      "[done]\n",
      "\tγ = -0.2529460575696245\n",
      "\tσ = 0.28528281622852975\n",
      "\tL = 18258.91674388237\n",
      "Extreme quantile (probability = 0.001): 0.9274530064076485\n"
     ]
    },
    {
     "name": "stderr",
     "output_type": "stream",
     "text": [
      "100%|██████████| 73216/73216 [00:00<00:00, 2148445.19it/s]\n"
     ]
    },
    {
     "name": "stdout",
     "output_type": "stream",
     "text": [
      "0\n",
      "73216\n",
      "Running POT with q=0.001, level=0.11999999999999998..\n",
      "Initial threshold : 0.002413616500870075\n",
      "Number of peaks : 35594\n",
      "Grimshaw maximum log-likelihood estimation ... [done]\n",
      "\tγ = -0.2651070535743322\n",
      "\tσ = 0.2907868508027177\n",
      "\tL = 17806.674635769246\n",
      "Extreme quantile (probability = 0.001): 0.917497273690266\n"
     ]
    },
    {
     "name": "stderr",
     "output_type": "stream",
     "text": [
      "100%|██████████| 73216/73216 [00:00<00:00, 1992591.05it/s]\n"
     ]
    },
    {
     "name": "stdout",
     "output_type": "stream",
     "text": [
      "0\n",
      "73216\n",
      "Running POT with q=0.001, level=0.12999999999999998..\n",
      "Initial threshold : 0.0028089914275429145\n",
      "Number of peaks : 35189\n",
      "Grimshaw maximum log-likelihood estimation ... [done]\n",
      "\tγ = -0.2827954925219208\n",
      "\tσ = 0.2980350761955779\n",
      "\tL = 17360.126711850327\n",
      "Extreme quantile (probability = 0.001): 0.9012752435988659\n"
     ]
    },
    {
     "name": "stderr",
     "output_type": "stream",
     "text": [
      "100%|██████████| 73216/73216 [00:00<00:00, 2125971.20it/s]"
     ]
    },
    {
     "name": "stdout",
     "output_type": "stream",
     "text": [
      "0\n",
      "73216\n",
      "Running POT with q=0.001, level=0.13999999999999999..\n",
      "Initial threshold : 0.00324296338945107\n",
      "Number of peaks : 34785\n",
      "Grimshaw maximum log-likelihood estimation ... "
     ]
    },
    {
     "name": "stderr",
     "output_type": "stream",
     "text": [
      "\n"
     ]
    },
    {
     "name": "stdout",
     "output_type": "stream",
     "text": [
      "[done]\n",
      "\tγ = -0.2945576729259878\n",
      "\tσ = 0.3036092702552241\n",
      "\tL = 16925.385189466873\n",
      "Extreme quantile (probability = 0.001): 0.8931192318542812\n"
     ]
    },
    {
     "name": "stderr",
     "output_type": "stream",
     "text": [
      "100%|██████████| 73216/73216 [00:00<00:00, 1765809.48it/s]"
     ]
    },
    {
     "name": "stdout",
     "output_type": "stream",
     "text": [
      "0\n",
      "73216\n",
      "Running POT with q=0.001, level=0.15..\n",
      "Initial threshold : 0.0037912799947995013\n",
      "Number of peaks : 34380\n",
      "Grimshaw maximum log-likelihood estimation ... "
     ]
    },
    {
     "name": "stderr",
     "output_type": "stream",
     "text": [
      "\n"
     ]
    },
    {
     "name": "stdout",
     "output_type": "stream",
     "text": [
      "[done]\n",
      "\tγ = -0.3037320884098015\n",
      "\tσ = 0.308378747394804\n",
      "\tL = 16507.854061955928\n",
      "Extreme quantile (probability = 0.001): 0.8882203664940391\n"
     ]
    },
    {
     "name": "stderr",
     "output_type": "stream",
     "text": [
      "100%|██████████| 73216/73216 [00:00<00:00, 2194614.14it/s]"
     ]
    },
    {
     "name": "stdout",
     "output_type": "stream",
     "text": [
      "0\n",
      "73216\n",
      "Running POT with q=0.001, level=0.16..\n",
      "Initial threshold : 0.004497037418386446\n",
      "Number of peaks : 33976\n",
      "Grimshaw maximum log-likelihood estimation ... "
     ]
    },
    {
     "name": "stderr",
     "output_type": "stream",
     "text": [
      "\n"
     ]
    },
    {
     "name": "stdout",
     "output_type": "stream",
     "text": [
      "[done]\n",
      "\tγ = -0.31045578619136993\n",
      "\tσ = 0.3123009414025383\n",
      "\tL = 16112.906889161379\n",
      "Extreme quantile (probability = 0.001): 0.8860704854426151\n"
     ]
    },
    {
     "name": "stderr",
     "output_type": "stream",
     "text": [
      "100%|██████████| 73216/73216 [00:00<00:00, 2171860.12it/s]"
     ]
    },
    {
     "name": "stdout",
     "output_type": "stream",
     "text": [
      "0\n",
      "73216\n",
      "Running POT with q=0.001, level=0.17..\n",
      "Initial threshold : 0.005500237041228928\n",
      "Number of peaks : 33571\n",
      "Grimshaw maximum log-likelihood estimation ... "
     ]
    },
    {
     "name": "stderr",
     "output_type": "stream",
     "text": [
      "\n"
     ]
    },
    {
     "name": "stdout",
     "output_type": "stream",
     "text": [
      "[done]\n",
      "\tγ = -0.3149755882628791\n",
      "\tσ = 0.3153024676383034\n",
      "\tL = 15751.461984279522\n",
      "Extreme quantile (probability = 0.001): 0.886030118966962\n"
     ]
    },
    {
     "name": "stderr",
     "output_type": "stream",
     "text": [
      "100%|██████████| 73216/73216 [00:00<00:00, 2176200.36it/s]"
     ]
    },
    {
     "name": "stdout",
     "output_type": "stream",
     "text": [
      "0\n",
      "73216\n",
      "Running POT with q=0.001, level=0.18000000000000002..\n",
      "Initial threshold : 0.006633249276053688\n",
      "Number of peaks : 33167\n",
      "Grimshaw maximum log-likelihood estimation ... "
     ]
    },
    {
     "name": "stderr",
     "output_type": "stream",
     "text": [
      "\n"
     ]
    },
    {
     "name": "stdout",
     "output_type": "stream",
     "text": [
      "[done]\n",
      "\tγ = -0.3185483370484301\n",
      "\tσ = 0.31791945900212054\n",
      "\tL = 15406.255208954906\n",
      "Extreme quantile (probability = 0.001): 0.8869112735405122\n"
     ]
    },
    {
     "name": "stderr",
     "output_type": "stream",
     "text": [
      "100%|██████████| 73216/73216 [00:00<00:00, 2195351.52it/s]"
     ]
    },
    {
     "name": "stdout",
     "output_type": "stream",
     "text": [
      "0\n",
      "73216\n",
      "Running POT with q=0.001, level=0.19000000000000003..\n",
      "Initial threshold : 0.007919437297494225\n",
      "Number of peaks : 32762\n",
      "Grimshaw maximum log-likelihood estimation ... "
     ]
    },
    {
     "name": "stderr",
     "output_type": "stream",
     "text": [
      "\n"
     ]
    },
    {
     "name": "stdout",
     "output_type": "stream",
     "text": [
      "[done]\n",
      "\tγ = -0.32173441414456194\n",
      "\tσ = 0.3203155956115026\n",
      "\tL = 15076.513711529438\n",
      "Extreme quantile (probability = 0.001): 0.8880779629526843\n"
     ]
    },
    {
     "name": "stderr",
     "output_type": "stream",
     "text": [
      "100%|██████████| 73216/73216 [00:00<00:00, 2161176.13it/s]"
     ]
    },
    {
     "name": "stdout",
     "output_type": "stream",
     "text": [
      "0\n",
      "73216\n",
      "Running POT with q=0.001, level=0.20000000000000004..\n",
      "Initial threshold : 0.0091972405415236\n",
      "Number of peaks : 32358\n",
      "Grimshaw maximum log-likelihood estimation ... "
     ]
    },
    {
     "name": "stderr",
     "output_type": "stream",
     "text": [
      "\n"
     ]
    },
    {
     "name": "stdout",
     "output_type": "stream",
     "text": [
      "[done]\n",
      "\tγ = -0.32482593716776664\n",
      "\tσ = 0.32273159636327503\n",
      "\tL = 14747.488855330797\n",
      "Extreme quantile (probability = 0.001): 0.8894591329372025\n"
     ]
    },
    {
     "name": "stderr",
     "output_type": "stream",
     "text": [
      "100%|██████████| 73216/73216 [00:00<00:00, 1891764.69it/s]"
     ]
    },
    {
     "name": "stdout",
     "output_type": "stream",
     "text": [
      "0\n",
      "73216\n",
      "Running POT with q=0.001, level=0.21000000000000005..\n",
      "Initial threshold : 0.010859709073645973\n",
      "Number of peaks : 31953\n",
      "Grimshaw maximum log-likelihood estimation ... "
     ]
    },
    {
     "name": "stderr",
     "output_type": "stream",
     "text": [
      "\n"
     ]
    },
    {
     "name": "stdout",
     "output_type": "stream",
     "text": [
      "[done]\n",
      "\tγ = -0.32749387219681214\n",
      "\tσ = 0.3246806046319939\n",
      "\tL = 14455.767486804205\n",
      "Extreme quantile (probability = 0.001): 0.8907624145492724\n"
     ]
    },
    {
     "name": "stderr",
     "output_type": "stream",
     "text": [
      "100%|██████████| 73216/73216 [00:00<00:00, 1859124.36it/s]"
     ]
    },
    {
     "name": "stdout",
     "output_type": "stream",
     "text": [
      "0\n",
      "73216\n",
      "Running POT with q=0.001, level=0.22000000000000006..\n",
      "Initial threshold : 0.01266537450607813\n",
      "Number of peaks : 31549\n",
      "Grimshaw maximum log-likelihood estimation ... "
     ]
    },
    {
     "name": "stderr",
     "output_type": "stream",
     "text": [
      "\n"
     ]
    },
    {
     "name": "stdout",
     "output_type": "stream",
     "text": [
      "[done]\n",
      "\tγ = -0.06553018262192634\n",
      "\tσ = 0.2590365345041335\n",
      "\tL = 13134.364525866495\n",
      "Extreme quantile (probability = 0.001): 1.41054334006724\n"
     ]
    },
    {
     "name": "stderr",
     "output_type": "stream",
     "text": [
      "100%|██████████| 73216/73216 [00:00<00:00, 1984440.36it/s]"
     ]
    },
    {
     "name": "stdout",
     "output_type": "stream",
     "text": [
      "0\n",
      "73216\n",
      "Running POT with q=0.001, level=0.23000000000000007..\n",
      "Initial threshold : 0.015177856980671534\n",
      "Number of peaks : 31144\n",
      "Grimshaw maximum log-likelihood estimation ... "
     ]
    },
    {
     "name": "stderr",
     "output_type": "stream",
     "text": [
      "\n"
     ]
    },
    {
     "name": "stdout",
     "output_type": "stream",
     "text": [
      "[done]\n",
      "\tγ = -0.05578712176408618\n",
      "\tσ = 0.2575806374754659\n",
      "\tL = 12837.854985760594\n",
      "Extreme quantile (probability = 0.001): 1.4456119097949771\n"
     ]
    },
    {
     "name": "stderr",
     "output_type": "stream",
     "text": [
      "100%|██████████| 73216/73216 [00:00<00:00, 2154398.82it/s]"
     ]
    },
    {
     "name": "stdout",
     "output_type": "stream",
     "text": [
      "0\n",
      "73216\n",
      "Running POT with q=0.001, level=0.24000000000000007..\n",
      "Initial threshold : 0.018890154948786098\n",
      "Number of peaks : 30740\n",
      "Grimshaw maximum log-likelihood estimation ... "
     ]
    },
    {
     "name": "stderr",
     "output_type": "stream",
     "text": [
      "\n"
     ]
    },
    {
     "name": "stdout",
     "output_type": "stream",
     "text": [
      "[done]\n",
      "\tγ = -0.05186009137543768\n",
      "\tσ = 0.25620627542680174\n",
      "\tL = 12715.062648692656\n",
      "Extreme quantile (probability = 0.001): 1.4568919695435667\n"
     ]
    },
    {
     "name": "stderr",
     "output_type": "stream",
     "text": [
      "100%|██████████| 73216/73216 [00:00<00:00, 2157532.01it/s]"
     ]
    },
    {
     "name": "stdout",
     "output_type": "stream",
     "text": [
      "0\n",
      "73216\n",
      "Running POT with q=0.001, level=0.25000000000000006..\n",
      "Initial threshold : 0.02443525982978656\n",
      "Number of peaks : 30335\n",
      "Grimshaw maximum log-likelihood estimation ... "
     ]
    },
    {
     "name": "stderr",
     "output_type": "stream",
     "text": [
      "\n"
     ]
    },
    {
     "name": "stdout",
     "output_type": "stream",
     "text": [
      "[done]\n",
      "\tγ = -0.05546768147465486\n",
      "\tσ = 0.2546104071048266\n",
      "\tL = 12846.520579825461\n",
      "Extreme quantile (probability = 0.001): 1.435145646634281\n"
     ]
    },
    {
     "name": "stderr",
     "output_type": "stream",
     "text": [
      "100%|██████████| 73216/73216 [00:00<00:00, 1740429.95it/s]"
     ]
    },
    {
     "name": "stdout",
     "output_type": "stream",
     "text": [
      "0\n",
      "73216\n",
      "Running POT with q=0.001, level=0.26000000000000006..\n",
      "Initial threshold : 0.0318349751949607\n",
      "Number of peaks : 29931\n",
      "Grimshaw maximum log-likelihood estimation ... "
     ]
    },
    {
     "name": "stderr",
     "output_type": "stream",
     "text": [
      "\n"
     ]
    },
    {
     "name": "stdout",
     "output_type": "stream",
     "text": [
      "[done]\n",
      "\tγ = -0.05580461134678638\n",
      "\tσ = 0.25044098637266965\n",
      "\tL = 13179.714202940504\n",
      "Extreme quantile (probability = 0.001): 1.4156705058379455\n"
     ]
    },
    {
     "name": "stderr",
     "output_type": "stream",
     "text": [
      "100%|██████████| 73216/73216 [00:00<00:00, 2173874.18it/s]"
     ]
    },
    {
     "name": "stdout",
     "output_type": "stream",
     "text": [
      "0\n",
      "73216\n",
      "Running POT with q=0.001, level=0.2700000000000001..\n",
      "Initial threshold : 0.04203078035992158\n",
      "Number of peaks : 29527\n",
      "Grimshaw maximum log-likelihood estimation ... "
     ]
    },
    {
     "name": "stderr",
     "output_type": "stream",
     "text": [
      "\n"
     ]
    },
    {
     "name": "stdout",
     "output_type": "stream",
     "text": [
      "[done]\n",
      "\tγ = -0.320901224063892\n",
      "\tσ = 0.30857527397802853\n",
      "\tL = 14665.785989898417\n",
      "Extreme quantile (probability = 0.001): 0.8877036308516745\n"
     ]
    },
    {
     "name": "stderr",
     "output_type": "stream",
     "text": [
      "100%|██████████| 73216/73216 [00:00<00:00, 2023831.77it/s]"
     ]
    },
    {
     "name": "stdout",
     "output_type": "stream",
     "text": [
      "0\n",
      "73216\n",
      "Running POT with q=0.001, level=0.2800000000000001..\n",
      "Initial threshold : 0.049202178828358534\n",
      "Number of peaks : 29122\n",
      "Grimshaw maximum log-likelihood estimation ... "
     ]
    },
    {
     "name": "stderr",
     "output_type": "stream",
     "text": [
      "\n"
     ]
    },
    {
     "name": "stdout",
     "output_type": "stream",
     "text": [
      "[done]\n",
      "\tγ = -0.3171451729443886\n",
      "\tσ = 0.3031188917319867\n",
      "\tL = 14874.79949298095\n",
      "Extreme quantile (probability = 0.001): 0.8863526431912101\n"
     ]
    },
    {
     "name": "stderr",
     "output_type": "stream",
     "text": [
      "100%|██████████| 73216/73216 [00:00<00:00, 2082983.98it/s]"
     ]
    },
    {
     "name": "stdout",
     "output_type": "stream",
     "text": [
      "0\n",
      "73216\n",
      "Running POT with q=0.001, level=0.2900000000000001..\n",
      "Initial threshold : 0.05053629930904613\n",
      "Number of peaks : 28718\n",
      "Grimshaw maximum log-likelihood estimation ... "
     ]
    },
    {
     "name": "stderr",
     "output_type": "stream",
     "text": [
      "\n"
     ]
    },
    {
     "name": "stdout",
     "output_type": "stream",
     "text": [
      "[done]\n",
      "\tγ = -0.3208533862222296\n",
      "\tσ = 0.3058097894660565\n",
      "\tL = 14521.123436400172\n",
      "Extreme quantile (probability = 0.001): 0.8876898188536406\n"
     ]
    },
    {
     "name": "stderr",
     "output_type": "stream",
     "text": [
      "100%|██████████| 73216/73216 [00:00<00:00, 1966018.74it/s]"
     ]
    },
    {
     "name": "stdout",
     "output_type": "stream",
     "text": [
      "0\n",
      "73216\n",
      "Running POT with q=0.001, level=0.3000000000000001..\n",
      "Initial threshold : 0.05180781905302467\n",
      "Number of peaks : 28313\n",
      "Grimshaw maximum log-likelihood estimation ... "
     ]
    },
    {
     "name": "stderr",
     "output_type": "stream",
     "text": [
      "\n"
     ]
    },
    {
     "name": "stdout",
     "output_type": "stream",
     "text": [
      "[done]\n",
      "\tγ = -0.32454545037408544\n",
      "\tσ = 0.3086277552331356\n",
      "\tL = 14161.167519353065\n",
      "Extreme quantile (probability = 0.001): 0.8893131835918924\n"
     ]
    },
    {
     "name": "stderr",
     "output_type": "stream",
     "text": [
      "100%|██████████| 73216/73216 [00:00<00:00, 1972382.94it/s]"
     ]
    },
    {
     "name": "stdout",
     "output_type": "stream",
     "text": [
      "0\n",
      "73216\n",
      "Running POT with q=0.001, level=0.3100000000000001..\n",
      "Initial threshold : 0.05389305812710621\n",
      "Number of peaks : 27909\n",
      "Grimshaw maximum log-likelihood estimation ... "
     ]
    },
    {
     "name": "stderr",
     "output_type": "stream",
     "text": [
      "\n"
     ]
    },
    {
     "name": "stdout",
     "output_type": "stream",
     "text": [
      "[done]\n",
      "\tγ = -0.059924318915479\n",
      "\tσ = 0.24521546665976024\n",
      "\tL = 12992.82055566843\n",
      "Extreme quantile (probability = 0.001): 1.380128150835939\n"
     ]
    },
    {
     "name": "stderr",
     "output_type": "stream",
     "text": [
      "100%|██████████| 73216/73216 [00:00<00:00, 2115980.69it/s]"
     ]
    },
    {
     "name": "stdout",
     "output_type": "stream",
     "text": [
      "0\n",
      "73216\n",
      "Running POT with q=0.001, level=0.3200000000000001..\n",
      "Initial threshold : 0.055999025832653704\n",
      "Number of peaks : 27504\n",
      "Grimshaw maximum log-likelihood estimation ... "
     ]
    },
    {
     "name": "stderr",
     "output_type": "stream",
     "text": [
      "\n"
     ]
    },
    {
     "name": "stdout",
     "output_type": "stream",
     "text": [
      "[done]\n",
      "\tγ = -0.06867123980455114\n",
      "\tσ = 0.24831225170630686\n",
      "\tL = 12699.682799197904\n",
      "Extreme quantile (probability = 0.001): 1.3614236887372528\n"
     ]
    },
    {
     "name": "stderr",
     "output_type": "stream",
     "text": [
      "100%|██████████| 73216/73216 [00:00<00:00, 2116987.19it/s]"
     ]
    },
    {
     "name": "stdout",
     "output_type": "stream",
     "text": [
      "0\n",
      "73216\n",
      "Running POT with q=0.001, level=0.3300000000000001..\n",
      "Initial threshold : 0.057231283097706864\n",
      "Number of peaks : 27100\n",
      "Grimshaw maximum log-likelihood estimation ... "
     ]
    },
    {
     "name": "stderr",
     "output_type": "stream",
     "text": [
      "\n"
     ]
    },
    {
     "name": "stdout",
     "output_type": "stream",
     "text": [
      "[done]\n",
      "\tγ = -0.06041788990398478\n",
      "\tσ = 0.24883856237770438\n",
      "\tL = 12232.095199554507\n",
      "Extreme quantile (probability = 0.001): 1.3960982860634175\n"
     ]
    },
    {
     "name": "stderr",
     "output_type": "stream",
     "text": [
      "100%|██████████| 73216/73216 [00:00<00:00, 1905096.73it/s]"
     ]
    },
    {
     "name": "stdout",
     "output_type": "stream",
     "text": [
      "0\n",
      "73216\n",
      "Running POT with q=0.001, level=0.34000000000000014..\n",
      "Initial threshold : 0.058199319506726965\n",
      "Number of peaks : 26695\n",
      "Grimshaw maximum log-likelihood estimation ... "
     ]
    },
    {
     "name": "stderr",
     "output_type": "stream",
     "text": [
      "\n"
     ]
    },
    {
     "name": "stdout",
     "output_type": "stream",
     "text": [
      "[done]\n",
      "\tγ = -0.05222922903121818\n",
      "\tσ = 0.24976203383727796\n",
      "\tL = 11731.809367072161\n",
      "Extreme quantile (probability = 0.001): 1.433402464696443\n"
     ]
    },
    {
     "name": "stderr",
     "output_type": "stream",
     "text": [
      "100%|██████████| 73216/73216 [00:00<00:00, 2096679.49it/s]"
     ]
    },
    {
     "name": "stdout",
     "output_type": "stream",
     "text": [
      "0\n",
      "73216\n",
      "Running POT with q=0.001, level=0.35000000000000014..\n",
      "Initial threshold : 0.05961231990374216\n",
      "Number of peaks : 26291\n",
      "Grimshaw maximum log-likelihood estimation ... "
     ]
    },
    {
     "name": "stderr",
     "output_type": "stream",
     "text": [
      "\n"
     ]
    },
    {
     "name": "stdout",
     "output_type": "stream",
     "text": [
      "[done]\n",
      "\tγ = -0.05352195811931271\n",
      "\tσ = 0.2522629165762179\n",
      "\tL = 11326.30408054918\n",
      "Extreme quantile (probability = 0.001): 1.4403817062414968\n"
     ]
    },
    {
     "name": "stderr",
     "output_type": "stream",
     "text": [
      "100%|██████████| 73216/73216 [00:00<00:00, 2089261.91it/s]"
     ]
    },
    {
     "name": "stdout",
     "output_type": "stream",
     "text": [
      "0\n",
      "73216\n",
      "Running POT with q=0.001, level=0.36000000000000015..\n",
      "Initial threshold : 0.0614937403998983\n",
      "Number of peaks : 25886\n",
      "Grimshaw maximum log-likelihood estimation ... "
     ]
    },
    {
     "name": "stderr",
     "output_type": "stream",
     "text": [
      "\n"
     ]
    },
    {
     "name": "stdout",
     "output_type": "stream",
     "text": [
      "[done]\n",
      "\tγ = -0.05879727123791578\n",
      "\tσ = 0.2551986709745375\n",
      "\tL = 10988.871206572196\n",
      "Extreme quantile (probability = 0.001): 1.4333826459138292\n"
     ]
    },
    {
     "name": "stderr",
     "output_type": "stream",
     "text": [
      "100%|██████████| 73216/73216 [00:00<00:00, 1906646.23it/s]"
     ]
    },
    {
     "name": "stdout",
     "output_type": "stream",
     "text": [
      "0\n",
      "73216\n",
      "Running POT with q=0.001, level=0.37000000000000016..\n",
      "Initial threshold : 0.06467682453172507\n",
      "Number of peaks : 25482\n",
      "Grimshaw maximum log-likelihood estimation ... "
     ]
    },
    {
     "name": "stderr",
     "output_type": "stream",
     "text": [
      "\n"
     ]
    },
    {
     "name": "stdout",
     "output_type": "stream",
     "text": [
      "[done]\n",
      "\tγ = -0.05304383803047785\n",
      "\tσ = 0.2546429191390814\n",
      "\tL = 10726.313329394157\n",
      "Extreme quantile (probability = 0.001): 1.4548596628743784\n"
     ]
    },
    {
     "name": "stderr",
     "output_type": "stream",
     "text": [
      "100%|██████████| 73216/73216 [00:00<00:00, 2112734.34it/s]"
     ]
    },
    {
     "name": "stdout",
     "output_type": "stream",
     "text": [
      "0\n",
      "73216\n",
      "Running POT with q=0.001, level=0.38000000000000017..\n",
      "Initial threshold : 0.06954364843544703\n",
      "Number of peaks : 25077\n",
      "Grimshaw maximum log-likelihood estimation ... "
     ]
    },
    {
     "name": "stderr",
     "output_type": "stream",
     "text": [
      "\n"
     ]
    },
    {
     "name": "stdout",
     "output_type": "stream",
     "text": [
      "[done]\n",
      "\tγ = -0.05488659661774409\n",
      "\tσ = 0.25399542452731083\n",
      "\tL = 10665.890633315928\n",
      "Extreme quantile (probability = 0.001): 1.4455964732704218\n"
     ]
    },
    {
     "name": "stderr",
     "output_type": "stream",
     "text": [
      "100%|██████████| 73216/73216 [00:00<00:00, 2122327.39it/s]"
     ]
    },
    {
     "name": "stdout",
     "output_type": "stream",
     "text": [
      "0\n",
      "73216\n",
      "Running POT with q=0.001, level=0.3900000000000002..\n",
      "Initial threshold : 0.07549611145066493\n",
      "Number of peaks : 24673\n",
      "Grimshaw maximum log-likelihood estimation ... "
     ]
    },
    {
     "name": "stderr",
     "output_type": "stream",
     "text": [
      "\n"
     ]
    },
    {
     "name": "stdout",
     "output_type": "stream",
     "text": [
      "[done]\n",
      "\tγ = -0.05399724885417434\n",
      "\tσ = 0.251727315169357\n",
      "\tL = 10693.428923910025\n",
      "Extreme quantile (probability = 0.001): 1.440047789069838\n"
     ]
    },
    {
     "name": "stderr",
     "output_type": "stream",
     "text": [
      "100%|██████████| 73216/73216 [00:00<00:00, 1907475.24it/s]"
     ]
    },
    {
     "name": "stdout",
     "output_type": "stream",
     "text": [
      "0\n",
      "73216\n",
      "Running POT with q=0.001, level=0.4000000000000002..\n",
      "Initial threshold : 0.08172311093737683\n",
      "Number of peaks : 24268\n",
      "Grimshaw maximum log-likelihood estimation ... "
     ]
    },
    {
     "name": "stderr",
     "output_type": "stream",
     "text": [
      "\n"
     ]
    },
    {
     "name": "stdout",
     "output_type": "stream",
     "text": [
      "[done]\n",
      "\tγ = -0.05199262331424237\n",
      "\tσ = 0.24900296267623356\n",
      "\tL = 10733.326455341848\n",
      "Extreme quantile (probability = 0.001): 1.4367639312501774\n"
     ]
    },
    {
     "name": "stderr",
     "output_type": "stream",
     "text": [
      "100%|██████████| 73216/73216 [00:00<00:00, 1847847.99it/s]"
     ]
    },
    {
     "name": "stdout",
     "output_type": "stream",
     "text": [
      "0\n",
      "73216\n",
      "Running POT with q=0.001, level=0.4100000000000002..\n",
      "Initial threshold : 0.08954919737302314\n",
      "Number of peaks : 23864\n",
      "Grimshaw maximum log-likelihood estimation ... "
     ]
    },
    {
     "name": "stderr",
     "output_type": "stream",
     "text": [
      "\n"
     ]
    },
    {
     "name": "stdout",
     "output_type": "stream",
     "text": [
      "[done]\n",
      "\tγ = -0.06020078614342639\n",
      "\tσ = 0.2466881445734718\n",
      "\tL = 10973.409341546063\n",
      "Extreme quantile (probability = 0.001): 1.3964393173284928\n"
     ]
    },
    {
     "name": "stderr",
     "output_type": "stream",
     "text": [
      "100%|██████████| 73216/73216 [00:00<00:00, 2067279.01it/s]"
     ]
    },
    {
     "name": "stdout",
     "output_type": "stream",
     "text": [
      "0\n",
      "73216\n",
      "Running POT with q=0.001, level=0.4200000000000002..\n",
      "Initial threshold : 0.09437129671485023\n",
      "Number of peaks : 23459\n",
      "Grimshaw maximum log-likelihood estimation ... "
     ]
    },
    {
     "name": "stderr",
     "output_type": "stream",
     "text": [
      "\n"
     ]
    },
    {
     "name": "stdout",
     "output_type": "stream",
     "text": [
      "[done]\n",
      "\tγ = -0.060318368675834955\n",
      "\tσ = 0.2458375273821849\n",
      "\tL = 10870.96599712194\n",
      "Extreme quantile (probability = 0.001): 1.3934326032846938\n"
     ]
    },
    {
     "name": "stderr",
     "output_type": "stream",
     "text": [
      "100%|██████████| 73216/73216 [00:00<00:00, 2090100.88it/s]"
     ]
    },
    {
     "name": "stdout",
     "output_type": "stream",
     "text": [
      "0\n",
      "73216\n",
      "Running POT with q=0.001, level=0.4300000000000002..\n",
      "Initial threshold : 0.09732824500618875\n",
      "Number of peaks : 23055\n",
      "Grimshaw maximum log-likelihood estimation ... "
     ]
    },
    {
     "name": "stderr",
     "output_type": "stream",
     "text": [
      "\n"
     ]
    },
    {
     "name": "stdout",
     "output_type": "stream",
     "text": [
      "[done]\n",
      "\tγ = -0.05796209073348879\n",
      "\tσ = 0.2464535979753365\n",
      "\tL = 10571.72356165588\n",
      "Extreme quantile (probability = 0.001): 1.4058669474792447\n"
     ]
    },
    {
     "name": "stderr",
     "output_type": "stream",
     "text": [
      "100%|██████████| 73216/73216 [00:00<00:00, 1961397.75it/s]"
     ]
    },
    {
     "name": "stdout",
     "output_type": "stream",
     "text": [
      "0\n",
      "73216\n",
      "Running POT with q=0.001, level=0.4400000000000002..\n",
      "Initial threshold : 0.09994773130357792\n",
      "Number of peaks : 22650\n",
      "Grimshaw maximum log-likelihood estimation ... "
     ]
    },
    {
     "name": "stderr",
     "output_type": "stream",
     "text": [
      "\n"
     ]
    },
    {
     "name": "stdout",
     "output_type": "stream",
     "text": [
      "[done]\n",
      "\tγ = -0.04912732756894256\n",
      "\tσ = 0.2462656562939827\n",
      "\tL = 10203.185129824342\n",
      "Extreme quantile (probability = 0.001): 1.4393330977876322\n"
     ]
    },
    {
     "name": "stderr",
     "output_type": "stream",
     "text": [
      "100%|██████████| 73216/73216 [00:00<00:00, 1944433.16it/s]"
     ]
    },
    {
     "name": "stdout",
     "output_type": "stream",
     "text": [
      "0\n",
      "73216\n",
      "Running POT with q=0.001, level=0.45000000000000023..\n",
      "Initial threshold : 0.10218108181357799\n",
      "Number of peaks : 22246\n",
      "Grimshaw maximum log-likelihood estimation ... "
     ]
    },
    {
     "name": "stderr",
     "output_type": "stream",
     "text": [
      "\n"
     ]
    },
    {
     "name": "stdout",
     "output_type": "stream",
     "text": [
      "[done]\n",
      "\tγ = -0.052750388132217996\n",
      "\tσ = 0.24898721599344537\n",
      "\tL = 9857.294105794263\n",
      "Extreme quantile (probability = 0.001): 1.4385461014165428\n"
     ]
    },
    {
     "name": "stderr",
     "output_type": "stream",
     "text": [
      "100%|██████████| 73216/73216 [00:00<00:00, 2154111.68it/s]"
     ]
    },
    {
     "name": "stdout",
     "output_type": "stream",
     "text": [
      "0\n",
      "73216\n",
      "Running POT with q=0.001, level=0.46000000000000024..\n",
      "Initial threshold : 0.10391545561201543\n",
      "Number of peaks : 21841\n",
      "Grimshaw maximum log-likelihood estimation ... "
     ]
    },
    {
     "name": "stderr",
     "output_type": "stream",
     "text": [
      "\n"
     ]
    },
    {
     "name": "stdout",
     "output_type": "stream",
     "text": [
      "[done]\n",
      "\tγ = -0.0499813676721278\n",
      "\tσ = 0.25111042029330477\n",
      "\tL = 9431.902243629767\n",
      "Extreme quantile (probability = 0.001): 1.4594942695529738\n"
     ]
    },
    {
     "name": "stderr",
     "output_type": "stream",
     "text": [
      "100%|██████████| 73216/73216 [00:00<00:00, 2149106.75it/s]"
     ]
    },
    {
     "name": "stdout",
     "output_type": "stream",
     "text": [
      "0\n",
      "73216\n"
     ]
    },
    {
     "name": "stderr",
     "output_type": "stream",
     "text": [
      "\n"
     ]
    },
    {
     "name": "stdout",
     "output_type": "stream",
     "text": [
      "Running POT with q=0.001, level=0.47000000000000025..\n",
      "Initial threshold : 0.10644750377862344\n",
      "Number of peaks : 21437\n",
      "Grimshaw maximum log-likelihood estimation ... [done]\n",
      "\tγ = -0.04905712022523756\n",
      "\tσ = 0.2528989252511709\n",
      "\tL = 9085.482830444755\n",
      "Extreme quantile (probability = 0.001): 1.4719806070170467\n"
     ]
    },
    {
     "name": "stderr",
     "output_type": "stream",
     "text": [
      "100%|██████████| 73216/73216 [00:00<00:00, 1923003.27it/s]\n"
     ]
    },
    {
     "name": "stdout",
     "output_type": "stream",
     "text": [
      "0\n",
      "73216\n",
      "Running POT with q=0.001, level=0.48000000000000026..\n",
      "Initial threshold : 0.10985079649676877\n",
      "Number of peaks : 21032\n",
      "Grimshaw maximum log-likelihood estimation ... [done]\n",
      "\tγ = -0.04479800634767728\n",
      "\tσ = 0.2532997936483733\n",
      "\tL = 8790.945747862857\n",
      "Extreme quantile (probability = 0.001): 1.4913851569653112\n"
     ]
    },
    {
     "name": "stderr",
     "output_type": "stream",
     "text": [
      "100%|██████████| 73216/73216 [00:00<00:00, 2119295.54it/s]\n"
     ]
    },
    {
     "name": "stdout",
     "output_type": "stream",
     "text": [
      "0\n",
      "73216\n",
      "Running POT with q=0.001, level=0.49000000000000027..\n",
      "Initial threshold : 0.11452080000807996\n",
      "Number of peaks : 20628\n",
      "Grimshaw maximum log-likelihood estimation ... [done]\n",
      "\tγ = -0.043555221641656705\n",
      "\tσ = 0.25309477407620523\n",
      "\tL = 8613.148809037142\n",
      "Extreme quantile (probability = 0.001): 1.4963240854213617\n"
     ]
    },
    {
     "name": "stderr",
     "output_type": "stream",
     "text": [
      "100%|██████████| 73216/73216 [00:00<00:00, 2107774.94it/s]"
     ]
    },
    {
     "name": "stdout",
     "output_type": "stream",
     "text": [
      "0\n",
      "73216\n"
     ]
    },
    {
     "name": "stderr",
     "output_type": "stream",
     "text": [
      "\n"
     ]
    },
    {
     "name": "stdout",
     "output_type": "stream",
     "text": [
      "Running POT with q=0.001, level=0.5000000000000002..\n",
      "Initial threshold : 0.12048872870447713\n",
      "Number of peaks : 20223\n",
      "Grimshaw maximum log-likelihood estimation ... [done]\n",
      "\tγ = -0.04670608557820377\n",
      "\tσ = 0.2524943764388182\n",
      "\tL = 8555.792894887243\n",
      "Extreme quantile (probability = 0.001): 1.48242509912495\n"
     ]
    },
    {
     "name": "stderr",
     "output_type": "stream",
     "text": [
      "100%|██████████| 73216/73216 [00:00<00:00, 2074919.51it/s]"
     ]
    },
    {
     "name": "stdout",
     "output_type": "stream",
     "text": [
      "0\n",
      "73216\n"
     ]
    },
    {
     "name": "stderr",
     "output_type": "stream",
     "text": [
      "\n"
     ]
    },
    {
     "name": "stdout",
     "output_type": "stream",
     "text": [
      "Running POT with q=0.001, level=0.5100000000000002..\n",
      "Initial threshold : 0.12581505791517067\n",
      "Number of peaks : 19819\n",
      "Grimshaw maximum log-likelihood estimation ... [done]\n",
      "\tγ = -0.03901180988691122\n",
      "\tσ = 0.2505921393546175\n",
      "\tL = 8382.256069011033\n",
      "Extreme quantile (probability = 0.001): 1.504760076256352\n"
     ]
    },
    {
     "name": "stderr",
     "output_type": "stream",
     "text": [
      "100%|██████████| 73216/73216 [00:00<00:00, 2093734.70it/s]"
     ]
    },
    {
     "name": "stdout",
     "output_type": "stream",
     "text": [
      "0\n",
      "73216\n"
     ]
    },
    {
     "name": "stderr",
     "output_type": "stream",
     "text": [
      "\n"
     ]
    },
    {
     "name": "stdout",
     "output_type": "stream",
     "text": [
      "Running POT with q=0.001, level=0.5200000000000002..\n",
      "Initial threshold : 0.13293346117982718\n",
      "Number of peaks : 19415\n",
      "Grimshaw maximum log-likelihood estimation ... [done]\n",
      "\tγ = -0.038885361444092825\n",
      "\tσ = 0.2483725836495045\n",
      "\tL = 8381.662623873799\n",
      "Extreme quantile (probability = 0.001): 1.496156766120481\n"
     ]
    },
    {
     "name": "stderr",
     "output_type": "stream",
     "text": [
      "100%|██████████| 73216/73216 [00:00<00:00, 1951749.14it/s]"
     ]
    },
    {
     "name": "stdout",
     "output_type": "stream",
     "text": [
      "0\n",
      "73216\n"
     ]
    },
    {
     "name": "stderr",
     "output_type": "stream",
     "text": [
      "\n"
     ]
    },
    {
     "name": "stdout",
     "output_type": "stream",
     "text": [
      "Running POT with q=0.001, level=0.5300000000000002..\n",
      "Initial threshold : 0.14298902381129963\n",
      "Number of peaks : 19010\n",
      "Grimshaw maximum log-likelihood estimation ... [done]\n",
      "\tγ = -0.04170969121642043\n",
      "\tσ = 0.2437516560931237\n",
      "\tL = 8617.519406855321\n",
      "Extreme quantile (probability = 0.001): 1.4657418602644088\n"
     ]
    },
    {
     "name": "stderr",
     "output_type": "stream",
     "text": [
      "100%|██████████| 73216/73216 [00:00<00:00, 2065249.18it/s]"
     ]
    },
    {
     "name": "stdout",
     "output_type": "stream",
     "text": [
      "0\n",
      "73216\n"
     ]
    },
    {
     "name": "stderr",
     "output_type": "stream",
     "text": [
      "\n"
     ]
    },
    {
     "name": "stdout",
     "output_type": "stream",
     "text": [
      "Running POT with q=0.001, level=0.5400000000000003..\n",
      "Initial threshold : 0.148826996175897\n",
      "Number of peaks : 18606\n",
      "Grimshaw maximum log-likelihood estimation ... [done]\n",
      "\tγ = -0.04635914490786153\n",
      "\tσ = 0.24374754694418302\n",
      "\tL = 8521.201516861704\n",
      "Extreme quantile (probability = 0.001): 1.4496755820915983\n"
     ]
    },
    {
     "name": "stderr",
     "output_type": "stream",
     "text": [
      "100%|██████████| 73216/73216 [00:00<00:00, 2101601.14it/s]"
     ]
    },
    {
     "name": "stdout",
     "output_type": "stream",
     "text": [
      "0\n",
      "73216\n"
     ]
    },
    {
     "name": "stderr",
     "output_type": "stream",
     "text": [
      "\n"
     ]
    },
    {
     "name": "stdout",
     "output_type": "stream",
     "text": [
      "Running POT with q=0.001, level=0.5500000000000003..\n",
      "Initial threshold : 0.1550201023541815\n",
      "Number of peaks : 18201\n",
      "Grimshaw maximum log-likelihood estimation ... [done]\n",
      "\tγ = -0.04929727265536232\n",
      "\tσ = 0.24317021688594495\n",
      "\tL = 8432.357170502593\n",
      "Extreme quantile (probability = 0.001): 1.4377585567415214\n"
     ]
    },
    {
     "name": "stderr",
     "output_type": "stream",
     "text": [
      "100%|██████████| 73216/73216 [00:00<00:00, 2092835.75it/s]"
     ]
    },
    {
     "name": "stdout",
     "output_type": "stream",
     "text": [
      "0\n",
      "73216\n",
      "Running POT with q=0.001, level=0.5600000000000003..\n"
     ]
    },
    {
     "name": "stderr",
     "output_type": "stream",
     "text": [
      "\n"
     ]
    },
    {
     "name": "stdout",
     "output_type": "stream",
     "text": [
      "Initial threshold : 0.1632435425793144\n",
      "Number of peaks : 17797\n",
      "Grimshaw maximum log-likelihood estimation ... [done]\n",
      "\tγ = -0.046848531478902444\n",
      "\tσ = 0.2396432949825919\n",
      "\tL = 8461.623935665251\n",
      "Extreme quantile (probability = 0.001): 1.4323603366394904\n"
     ]
    },
    {
     "name": "stderr",
     "output_type": "stream",
     "text": [
      "100%|██████████| 73216/73216 [00:00<00:00, 2116855.85it/s]\n"
     ]
    },
    {
     "name": "stdout",
     "output_type": "stream",
     "text": [
      "0\n",
      "73216\n",
      "Running POT with q=0.001, level=0.5700000000000003..\n",
      "Initial threshold : 0.1728914131120245\n",
      "Number of peaks : 17392\n",
      "Grimshaw maximum log-likelihood estimation ... [done]\n",
      "\tγ = -0.04971773148876324\n",
      "\tσ = 0.23565112859124518\n",
      "\tL = 8611.136915935997\n",
      "Extreme quantile (probability = 0.001): 1.4065343587800925\n"
     ]
    },
    {
     "name": "stderr",
     "output_type": "stream",
     "text": [
      "100%|██████████| 73216/73216 [00:00<00:00, 2024272.01it/s]\n"
     ]
    },
    {
     "name": "stdout",
     "output_type": "stream",
     "text": [
      "0\n",
      "73216\n",
      "Running POT with q=0.001, level=0.5800000000000003..\n",
      "Initial threshold : 0.18265113953496126\n",
      "Number of peaks : 16988\n",
      "Grimshaw maximum log-likelihood estimation ... [done]\n",
      "\tγ = -0.0509596556965084\n",
      "\tσ = 0.23125774904213348\n",
      "\tL = 8751.912656500828\n",
      "Extreme quantile (probability = 0.001): 1.3849824941138105\n"
     ]
    },
    {
     "name": "stderr",
     "output_type": "stream",
     "text": [
      "100%|██████████| 73216/73216 [00:00<00:00, 2108165.62it/s]\n"
     ]
    },
    {
     "name": "stdout",
     "output_type": "stream",
     "text": [
      "0\n",
      "73216\n",
      "Running POT with q=0.001, level=0.5900000000000003..\n",
      "Initial threshold : 0.19003591064516456\n",
      "Number of peaks : 16583\n",
      "Grimshaw maximum log-likelihood estimation ... [done]\n",
      "\tγ = -0.05103039202806636\n",
      "\tσ = 0.2291309716021228\n",
      "\tL = 8697.649220005313\n",
      "Extreme quantile (probability = 0.001): 1.377003824909495\n"
     ]
    },
    {
     "name": "stderr",
     "output_type": "stream",
     "text": [
      "100%|██████████| 73216/73216 [00:00<00:00, 1953847.77it/s]\n"
     ]
    },
    {
     "name": "stdout",
     "output_type": "stream",
     "text": [
      "0\n",
      "73216\n",
      "Running POT with q=0.001, level=0.6000000000000003..\n",
      "Initial threshold : 0.1963641666906213\n",
      "Number of peaks : 16179\n",
      "Grimshaw maximum log-likelihood estimation ... [done]\n",
      "\tγ = -0.04359539389888312\n",
      "\tσ = 0.22691082127447604\n",
      "\tL = 8522.993499245962\n",
      "Extreme quantile (probability = 0.001): 1.392835738042874\n"
     ]
    },
    {
     "name": "stderr",
     "output_type": "stream",
     "text": [
      "100%|██████████| 73216/73216 [00:00<00:00, 2169435.91it/s]\n"
     ]
    },
    {
     "name": "stdout",
     "output_type": "stream",
     "text": [
      "0\n",
      "73216\n",
      "Running POT with q=0.001, level=0.6100000000000003..\n",
      "Initial threshold : 0.2035687539202673\n",
      "Number of peaks : 15774\n",
      "Grimshaw maximum log-likelihood estimation ... [done]\n",
      "\tγ = -0.04601939209786399\n",
      "\tσ = 0.2255682333103999\n",
      "\tL = 8441.48719315754\n",
      "Extreme quantile (probability = 0.001): 1.3803957043047688\n"
     ]
    },
    {
     "name": "stderr",
     "output_type": "stream",
     "text": [
      "100%|██████████| 73216/73216 [00:00<00:00, 1992914.33it/s]\n"
     ]
    },
    {
     "name": "stdout",
     "output_type": "stream",
     "text": [
      "0\n",
      "73216\n",
      "Running POT with q=0.001, level=0.6200000000000003..\n",
      "Initial threshold : 0.2106013109173981\n",
      "Number of peaks : 15370\n",
      "Grimshaw maximum log-likelihood estimation ... [done]\n",
      "\tγ = -0.049959222707648965\n",
      "\tσ = 0.2247257726053739\n",
      "\tL = 8343.352912044553\n",
      "Extreme quantile (probability = 0.001): 1.3656529272454734\n"
     ]
    },
    {
     "name": "stderr",
     "output_type": "stream",
     "text": [
      "100%|██████████| 73216/73216 [00:00<00:00, 2096407.54it/s]\n"
     ]
    },
    {
     "name": "stdout",
     "output_type": "stream",
     "text": [
      "0\n",
      "73216\n",
      "Running POT with q=0.001, level=0.6300000000000003..\n",
      "Initial threshold : 0.22125198194459017\n",
      "Number of peaks : 14965\n",
      "Grimshaw maximum log-likelihood estimation ... [done]\n",
      "\tγ = -0.05014673054141128\n",
      "\tσ = 0.2196846343037479\n",
      "\tL = 8465.834766349715\n",
      "Extreme quantile (probability = 0.001): 1.345437431950017\n"
     ]
    },
    {
     "name": "stderr",
     "output_type": "stream",
     "text": [
      "100%|██████████| 73216/73216 [00:00<00:00, 2163551.42it/s]\n"
     ]
    },
    {
     "name": "stdout",
     "output_type": "stream",
     "text": [
      "0\n",
      "73216\n",
      "Running POT with q=0.001, level=0.6400000000000003..\n",
      "Initial threshold : 0.23324928982295567\n",
      "Number of peaks : 14561\n",
      "Grimshaw maximum log-likelihood estimation ... [done]\n",
      "\tγ = -0.049660523870796114\n",
      "\tσ = 0.21315926658431447\n",
      "\tL = 8669.272645974643\n",
      "Extreme quantile (probability = 0.001): 1.3211827122524058\n"
     ]
    },
    {
     "name": "stderr",
     "output_type": "stream",
     "text": [
      "100%|██████████| 73216/73216 [00:00<00:00, 2016840.35it/s]\n"
     ]
    },
    {
     "name": "stdout",
     "output_type": "stream",
     "text": [
      "0\n",
      "73216\n",
      "Running POT with q=0.001, level=0.6500000000000004..\n",
      "Initial threshold : 0.244960998353406\n",
      "Number of peaks : 14156\n",
      "Grimshaw maximum log-likelihood estimation ... [done]\n",
      "\tγ = -0.05273281725249812\n",
      "\tσ = 0.2074594676322734\n",
      "\tL = 8855.315702518861\n",
      "Extreme quantile (probability = 0.001): 1.2904549239782008\n"
     ]
    },
    {
     "name": "stderr",
     "output_type": "stream",
     "text": [
      "100%|██████████| 73216/73216 [00:00<00:00, 2203574.64it/s]\n"
     ]
    },
    {
     "name": "stdout",
     "output_type": "stream",
     "text": [
      "0\n",
      "73216\n",
      "Running POT with q=0.001, level=0.6600000000000004..\n",
      "Initial threshold : 0.2546587187600444\n",
      "Number of peaks : 13752\n",
      "Grimshaw maximum log-likelihood estimation ... [done]\n",
      "\tγ = -0.050910419937028495\n",
      "\tσ = 0.20307180327492\n",
      "\tL = 8871.498698078556\n",
      "Extreme quantile (probability = 0.001): 1.2788738727431255\n"
     ]
    },
    {
     "name": "stderr",
     "output_type": "stream",
     "text": [
      "100%|██████████| 73216/73216 [00:00<00:00, 2138689.60it/s]\n"
     ]
    },
    {
     "name": "stdout",
     "output_type": "stream",
     "text": [
      "0\n",
      "73216\n",
      "Running POT with q=0.001, level=0.6700000000000004..\n",
      "Initial threshold : 0.26423699263051503\n",
      "Number of peaks : 13347\n",
      "Grimshaw maximum log-likelihood estimation ... [done]\n",
      "\tγ = -0.04893721933362183\n",
      "\tσ = 0.19886165056237956\n",
      "\tL = 8863.517651904316\n",
      "Extreme quantile (probability = 0.001): 1.2682489302257118\n"
     ]
    },
    {
     "name": "stderr",
     "output_type": "stream",
     "text": [
      "100%|██████████| 73216/73216 [00:00<00:00, 2171153.78it/s]\n"
     ]
    },
    {
     "name": "stdout",
     "output_type": "stream",
     "text": [
      "0\n",
      "73216\n",
      "Running POT with q=0.001, level=0.6800000000000004..\n",
      "Initial threshold : 0.27271293630185234\n",
      "Number of peaks : 12943\n",
      "Grimshaw maximum log-likelihood estimation ... [done]\n",
      "\tγ = -0.04803114722498736\n",
      "\tσ = 0.1959946362270552\n",
      "\tL = 8771.459885402563\n",
      "Extreme quantile (probability = 0.001): 1.2601679915403796\n"
     ]
    },
    {
     "name": "stderr",
     "output_type": "stream",
     "text": [
      "100%|██████████| 73216/73216 [00:00<00:00, 1933865.85it/s]\n"
     ]
    },
    {
     "name": "stdout",
     "output_type": "stream",
     "text": [
      "0\n",
      "73216\n",
      "Running POT with q=0.001, level=0.6900000000000004..\n",
      "Initial threshold : 0.28078071922585224\n",
      "Number of peaks : 12538\n",
      "Grimshaw maximum log-likelihood estimation ... [done]\n",
      "\tγ = -0.047966317654444146\n",
      "\tσ = 0.193787736887604\n",
      "\tL = 8638.157614897564\n",
      "Extreme quantile (probability = 0.001): 1.2526159859507833\n"
     ]
    },
    {
     "name": "stderr",
     "output_type": "stream",
     "text": [
      "100%|██████████| 73216/73216 [00:00<00:00, 1854980.47it/s]\n"
     ]
    },
    {
     "name": "stdout",
     "output_type": "stream",
     "text": [
      "0\n",
      "73216\n",
      "Running POT with q=0.001, level=0.7000000000000004..\n",
      "Initial threshold : 0.289210398071889\n",
      "Number of peaks : 12134\n",
      "Grimshaw maximum log-likelihood estimation ... [done]\n",
      "\tγ = -0.04773196377256461\n",
      "\tσ = 0.1912998267247408\n",
      "\tL = 8513.763731497913\n",
      "Extreme quantile (probability = 0.001): 1.2444160050175797\n"
     ]
    },
    {
     "name": "stderr",
     "output_type": "stream",
     "text": [
      "100%|██████████| 73216/73216 [00:00<00:00, 2187080.51it/s]\n"
     ]
    },
    {
     "name": "stdout",
     "output_type": "stream",
     "text": [
      "0\n",
      "73216\n",
      "Running POT with q=0.001, level=0.7100000000000004..\n",
      "Initial threshold : 0.29900062600997757\n",
      "Number of peaks : 11729\n",
      "Grimshaw maximum log-likelihood estimation ... [done]\n",
      "\tγ = -0.04685881350938348\n",
      "\tσ = 0.18747244264809534\n",
      "\tL = 8456.40058066737\n",
      "Extreme quantile (probability = 0.001): 1.2324487503307617\n"
     ]
    },
    {
     "name": "stderr",
     "output_type": "stream",
     "text": [
      "100%|██████████| 73216/73216 [00:00<00:00, 1974335.78it/s]\n"
     ]
    },
    {
     "name": "stdout",
     "output_type": "stream",
     "text": [
      "0\n",
      "73216\n",
      "Running POT with q=0.001, level=0.7200000000000004..\n",
      "Initial threshold : 0.30927313471174855\n",
      "Number of peaks : 11325\n",
      "Grimshaw maximum log-likelihood estimation ... [done]\n",
      "\tγ = -0.043374107212957314\n",
      "\tσ = 0.18288563808859942\n",
      "\tL = 8406.189145068762\n",
      "Extreme quantile (probability = 0.001): 1.2235198070280122\n"
     ]
    },
    {
     "name": "stderr",
     "output_type": "stream",
     "text": [
      "100%|██████████| 73216/73216 [00:00<00:00, 2174828.70it/s]\n"
     ]
    },
    {
     "name": "stdout",
     "output_type": "stream",
     "text": [
      "0\n",
      "73216\n",
      "Running POT with q=0.001, level=0.7300000000000004..\n",
      "Initial threshold : 0.32154615669544917\n",
      "Number of peaks : 10920\n",
      "Grimshaw maximum log-likelihood estimation ... [done]\n",
      "\tγ = -0.045709350194367726\n",
      "\tσ = 0.17712076401928598\n",
      "\tL = 8480.830685492203\n",
      "Extreme quantile (probability = 0.001): 1.1964200069888764\n"
     ]
    },
    {
     "name": "stderr",
     "output_type": "stream",
     "text": [
      "100%|██████████| 73216/73216 [00:00<00:00, 2110948.01it/s]\n"
     ]
    },
    {
     "name": "stdout",
     "output_type": "stream",
     "text": [
      "0\n",
      "73216\n",
      "Running POT with q=0.001, level=0.7400000000000004..\n",
      "Initial threshold : 0.3360850120111447\n",
      "Number of peaks : 10516\n",
      "Grimshaw maximum log-likelihood estimation ... [done]\n",
      "\tγ = -0.05111859172648381\n",
      "\tσ = 0.16940794178058818\n",
      "\tL = 8692.149208887575\n",
      "Extreme quantile (probability = 0.001): 1.1560491269529192\n"
     ]
    },
    {
     "name": "stderr",
     "output_type": "stream",
     "text": [
      "100%|██████████| 73216/73216 [00:00<00:00, 2135536.59it/s]\n"
     ]
    },
    {
     "name": "stdout",
     "output_type": "stream",
     "text": [
      "0\n",
      "73216\n",
      "Running POT with q=0.001, level=0.7500000000000004..\n",
      "Initial threshold : 0.34824602099227064\n",
      "Number of peaks : 10111\n",
      "Grimshaw maximum log-likelihood estimation ... [done]\n",
      "\tγ = -0.044907100031657876\n",
      "\tσ = 0.16259131084584608\n",
      "\tL = 8709.844132664059\n",
      "Extreme quantile (probability = 0.001): 1.143332144051775\n"
     ]
    },
    {
     "name": "stderr",
     "output_type": "stream",
     "text": [
      "100%|██████████| 73216/73216 [00:00<00:00, 1957783.97it/s]\n"
     ]
    },
    {
     "name": "stdout",
     "output_type": "stream",
     "text": [
      "0\n",
      "73216\n",
      "Running POT with q=0.001, level=0.7600000000000005..\n",
      "Initial threshold : 0.35810823712564144\n",
      "Number of peaks : 9707\n",
      "Grimshaw maximum log-likelihood estimation ... [done]\n",
      "\tγ = -0.04694488771988403\n",
      "\tσ = 0.1591898360844689\n",
      "\tL = 8586.838787670586\n",
      "Extreme quantile (probability = 0.001): 1.1273638004901598\n"
     ]
    },
    {
     "name": "stderr",
     "output_type": "stream",
     "text": [
      "100%|██████████| 73216/73216 [00:00<00:00, 2056563.41it/s]\n"
     ]
    },
    {
     "name": "stdout",
     "output_type": "stream",
     "text": [
      "0\n",
      "73216\n",
      "Running POT with q=0.001, level=0.7700000000000005..\n",
      "Initial threshold : 0.36801765383472684\n",
      "Number of peaks : 9303\n",
      "Grimshaw maximum log-likelihood estimation ... [done]\n",
      "\tγ = -0.06253663962785339\n",
      "\tσ = 0.15750000367162506\n",
      "\tL = 8473.790463712392\n",
      "Extreme quantile (probability = 0.001): 1.0940724002637916\n"
     ]
    },
    {
     "name": "stderr",
     "output_type": "stream",
     "text": [
      "100%|██████████| 73216/73216 [00:00<00:00, 2202341.98it/s]\n"
     ]
    },
    {
     "name": "stdout",
     "output_type": "stream",
     "text": [
      "0\n",
      "73216\n",
      "Running POT with q=0.001, level=0.7800000000000005..\n",
      "Initial threshold : 0.37915034851859986\n",
      "Number of peaks : 8898\n",
      "Grimshaw maximum log-likelihood estimation ... [done]\n",
      "\tγ = -0.049869323762881224\n",
      "\tσ = 0.15130312574292348\n",
      "\tL = 8349.343295383915\n",
      "Extreme quantile (probability = 0.001): 1.0946761827966451\n"
     ]
    },
    {
     "name": "stderr",
     "output_type": "stream",
     "text": [
      "100%|██████████| 73216/73216 [00:00<00:00, 2196450.67it/s]"
     ]
    },
    {
     "name": "stdout",
     "output_type": "stream",
     "text": [
      "0\n",
      "73216\n"
     ]
    },
    {
     "name": "stderr",
     "output_type": "stream",
     "text": [
      "\n"
     ]
    },
    {
     "name": "stdout",
     "output_type": "stream",
     "text": [
      "Running POT with q=0.001, level=0.7900000000000005..\n",
      "Initial threshold : 0.38998752655076885\n",
      "Number of peaks : 8494\n",
      "Grimshaw maximum log-likelihood estimation ... [done]\n",
      "\tγ = -0.050146355144788934\n",
      "\tσ = 0.14702628048567876\n",
      "\tL = 8216.163676654067\n",
      "Extreme quantile (probability = 0.001): 1.0795729345339988\n"
     ]
    },
    {
     "name": "stderr",
     "output_type": "stream",
     "text": [
      "100%|██████████| 73216/73216 [00:00<00:00, 2188842.05it/s]"
     ]
    },
    {
     "name": "stdout",
     "output_type": "stream",
     "text": [
      "0\n",
      "73216\n"
     ]
    },
    {
     "name": "stderr",
     "output_type": "stream",
     "text": [
      "\n"
     ]
    },
    {
     "name": "stdout",
     "output_type": "stream",
     "text": [
      "Running POT with q=0.001, level=0.8000000000000005..\n",
      "Initial threshold : 0.4003669377753951\n",
      "Number of peaks : 8089\n",
      "Grimshaw maximum log-likelihood estimation ... [done]\n",
      "\tγ = -0.054801362939402076\n",
      "\tσ = 0.14386163564030505\n",
      "\tL = 8038.077058480431\n",
      "Extreme quantile (probability = 0.001): 1.0619013352378948\n"
     ]
    },
    {
     "name": "stderr",
     "output_type": "stream",
     "text": [
      "100%|██████████| 73216/73216 [00:00<00:00, 2174382.12it/s]\n"
     ]
    },
    {
     "name": "stdout",
     "output_type": "stream",
     "text": [
      "0\n",
      "73216\n",
      "Running POT with q=0.001, level=0.8100000000000005..\n",
      "Initial threshold : 0.4114039473080311\n",
      "Number of peaks : 7685\n",
      "Grimshaw maximum log-likelihood estimation ... [done]\n",
      "\tγ = -0.28506497677280773\n",
      "\tσ = 0.16911052888489422\n",
      "\tL = 8163.527562975319\n",
      "Extreme quantile (probability = 0.001): 0.8717050336154849\n"
     ]
    },
    {
     "name": "stderr",
     "output_type": "stream",
     "text": [
      "100%|██████████| 73216/73216 [00:00<00:00, 2172490.07it/s]"
     ]
    },
    {
     "name": "stdout",
     "output_type": "stream",
     "text": [
      "0\n",
      "73216\n",
      "Running POT with q=0.001, level=0.8200000000000005..\n",
      "Initial threshold : 0.42451076518172925\n",
      "Number of peaks : 7280\n",
      "Grimshaw maximum log-likelihood estimation ... "
     ]
    },
    {
     "name": "stderr",
     "output_type": "stream",
     "text": [
      "\n"
     ]
    },
    {
     "name": "stdout",
     "output_type": "stream",
     "text": [
      "[done]\n",
      "\tγ = -0.27686684346529544\n",
      "\tσ = 0.16107751656919145\n",
      "\tL = 8027.92102081641\n",
      "Extreme quantile (probability = 0.001): 0.8681434285543677\n"
     ]
    },
    {
     "name": "stderr",
     "output_type": "stream",
     "text": [
      "100%|██████████| 73216/73216 [00:00<00:00, 2090015.53it/s]"
     ]
    },
    {
     "name": "stdout",
     "output_type": "stream",
     "text": [
      "0\n",
      "73216\n"
     ]
    },
    {
     "name": "stderr",
     "output_type": "stream",
     "text": [
      "\n"
     ]
    },
    {
     "name": "stdout",
     "output_type": "stream",
     "text": [
      "Running POT with q=0.001, level=0.8300000000000005..\n",
      "Initial threshold : 0.43742176714280134\n",
      "Number of peaks : 6876\n",
      "Grimshaw maximum log-likelihood estimation ... [done]\n",
      "\tγ = -0.26823202004342084\n",
      "\tσ = 0.15332483758505727\n",
      "\tL = 7862.214412753559\n",
      "Extreme quantile (probability = 0.001): 0.8648804697842287\n"
     ]
    },
    {
     "name": "stderr",
     "output_type": "stream",
     "text": [
      "100%|██████████| 73216/73216 [00:00<00:00, 2074400.91it/s]\n"
     ]
    },
    {
     "name": "stdout",
     "output_type": "stream",
     "text": [
      "0\n",
      "73216\n",
      "Running POT with q=0.001, level=0.8400000000000005..\n",
      "Initial threshold : 0.44872790729272083\n",
      "Number of peaks : 6471\n",
      "Grimshaw maximum log-likelihood estimation ... [done]\n",
      "\tγ = -0.2629982566242475\n",
      "\tσ = 0.14795481080211503\n",
      "\tL = 7595.9616131593575\n",
      "Extreme quantile (probability = 0.001): 0.8632133296341193\n"
     ]
    },
    {
     "name": "stderr",
     "output_type": "stream",
     "text": [
      "100%|██████████| 73216/73216 [00:00<00:00, 2080528.46it/s]\n"
     ]
    },
    {
     "name": "stdout",
     "output_type": "stream",
     "text": [
      "0\n",
      "73216\n",
      "Running POT with q=0.001, level=0.8500000000000005..\n",
      "Initial threshold : 0.46003995721630986\n",
      "Number of peaks : 6067\n",
      "Grimshaw maximum log-likelihood estimation ... [done]\n",
      "\tγ = -0.2576585219752593\n",
      "\tσ = 0.14279464695986196\n",
      "\tL = 7304.705846128111\n",
      "Extreme quantile (probability = 0.001): 0.861841912657913\n"
     ]
    },
    {
     "name": "stderr",
     "output_type": "stream",
     "text": [
      "100%|██████████| 73216/73216 [00:00<00:00, 2053414.30it/s]\n"
     ]
    },
    {
     "name": "stdout",
     "output_type": "stream",
     "text": [
      "0\n",
      "73216\n",
      "Running POT with q=0.001, level=0.8600000000000005..\n",
      "Initial threshold : 0.4705145130767612\n",
      "Number of peaks : 5662\n",
      "Grimshaw maximum log-likelihood estimation ... [done]\n",
      "\tγ = -0.25548471636885706\n",
      "\tσ = 0.13927306196141576\n",
      "\tL = 6946.161500426741\n",
      "Extreme quantile (probability = 0.001): 0.8614013519661521\n"
     ]
    },
    {
     "name": "stderr",
     "output_type": "stream",
     "text": [
      "100%|██████████| 73216/73216 [00:00<00:00, 2114552.81it/s]\n"
     ]
    },
    {
     "name": "stdout",
     "output_type": "stream",
     "text": [
      "0\n",
      "73216\n",
      "Running POT with q=0.001, level=0.8700000000000006..\n",
      "Initial threshold : 0.48225796174525826\n",
      "Number of peaks : 5258\n",
      "Grimshaw maximum log-likelihood estimation ... [done]\n",
      "\tγ = -0.25008985964459307\n",
      "\tσ = 0.13433129044115494\n",
      "\tL = 6612.124672348635\n",
      "Extreme quantile (probability = 0.001): 0.8603852464297794\n"
     ]
    },
    {
     "name": "stderr",
     "output_type": "stream",
     "text": [
      "100%|██████████| 73216/73216 [00:00<00:00, 2178284.28it/s]\n"
     ]
    },
    {
     "name": "stdout",
     "output_type": "stream",
     "text": [
      "0\n",
      "73216\n",
      "Running POT with q=0.001, level=0.8800000000000006..\n",
      "Initial threshold : 0.49358257728967914\n",
      "Number of peaks : 4853\n",
      "Grimshaw maximum log-likelihood estimation ... [done]\n",
      "\tγ = -0.24738297433318712\n",
      "\tσ = 0.13062245699506556\n",
      "\tL = 6225.559910311939\n",
      "Extreme quantile (probability = 0.001): 0.8600483064544039\n"
     ]
    },
    {
     "name": "stderr",
     "output_type": "stream",
     "text": [
      "100%|██████████| 73216/73216 [00:00<00:00, 1859788.65it/s]\n"
     ]
    },
    {
     "name": "stdout",
     "output_type": "stream",
     "text": [
      "0\n",
      "73216\n",
      "Running POT with q=0.001, level=0.8900000000000006..\n",
      "Initial threshold : 0.5050992767167983\n",
      "Number of peaks : 4449\n",
      "Grimshaw maximum log-likelihood estimation ... [done]\n",
      "\tγ = -0.2462413373921476\n",
      "\tσ = 0.12739584884870214\n",
      "\tL = 5813.496987849108\n",
      "Extreme quantile (probability = 0.001): 0.8598590634115564\n"
     ]
    },
    {
     "name": "stderr",
     "output_type": "stream",
     "text": [
      "100%|██████████| 73216/73216 [00:00<00:00, 2020954.91it/s]\n"
     ]
    },
    {
     "name": "stdout",
     "output_type": "stream",
     "text": [
      "0\n",
      "73216\n",
      "Running POT with q=0.001, level=0.9000000000000006..\n",
      "Initial threshold : 0.5184064838028917\n",
      "Number of peaks : 4044\n",
      "Grimshaw maximum log-likelihood estimation ... [done]\n",
      "\tγ = -0.03180379694380464\n",
      "\tσ = 0.10154763866470151\n",
      "\tL = 5334.161530218241\n",
      "Extreme quantile (probability = 0.001): 0.9533997115602149\n"
     ]
    },
    {
     "name": "stderr",
     "output_type": "stream",
     "text": [
      "100%|██████████| 73216/73216 [00:00<00:00, 2181595.87it/s]"
     ]
    },
    {
     "name": "stdout",
     "output_type": "stream",
     "text": [
      "0\n",
      "73216\n"
     ]
    },
    {
     "name": "stderr",
     "output_type": "stream",
     "text": [
      "\n"
     ]
    },
    {
     "name": "stdout",
     "output_type": "stream",
     "text": [
      "Running POT with q=0.001, level=0.9100000000000006..\n",
      "Initial threshold : 0.5318345504156312\n",
      "Number of peaks : 3640\n",
      "Grimshaw maximum log-likelihood estimation ... [done]\n",
      "\tγ = -0.23675425143544615\n",
      "\tσ = 0.11813211579413516\n",
      "\tL = 4996.6495010829985\n",
      "Extreme quantile (probability = 0.001): 0.8588489547774838\n"
     ]
    },
    {
     "name": "stderr",
     "output_type": "stream",
     "text": [
      "100%|██████████| 73216/73216 [00:00<00:00, 1770543.59it/s]"
     ]
    },
    {
     "name": "stdout",
     "output_type": "stream",
     "text": [
      "0\n",
      "73216\n"
     ]
    },
    {
     "name": "stderr",
     "output_type": "stream",
     "text": [
      "\n"
     ]
    },
    {
     "name": "stdout",
     "output_type": "stream",
     "text": [
      "Running POT with q=0.001, level=0.9200000000000006..\n",
      "Initial threshold : 0.5464504948091005\n",
      "Number of peaks : 3235\n",
      "Grimshaw maximum log-likelihood estimation ... [done]\n",
      "\tγ = -0.2262019941673279\n",
      "\tσ = 0.11274913388469333\n",
      "\tL = 4557.442044069347\n",
      "Extreme quantile (probability = 0.001): 0.8599001601281553\n"
     ]
    },
    {
     "name": "stderr",
     "output_type": "stream",
     "text": [
      "100%|██████████| 73216/73216 [00:00<00:00, 2161404.30it/s]\n"
     ]
    },
    {
     "name": "stdout",
     "output_type": "stream",
     "text": [
      "0\n",
      "73216\n",
      "Running POT with q=0.001, level=0.9300000000000006..\n",
      "Initial threshold : 0.5602304467326462\n",
      "Number of peaks : 2831\n",
      "Grimshaw maximum log-likelihood estimation ... [done]\n",
      "\tγ = -0.23741148383600463\n",
      "\tσ = 0.11171079890966151\n",
      "\tL = 4046.2163290320163\n",
      "Extreme quantile (probability = 0.001): 0.859150557618011\n"
     ]
    },
    {
     "name": "stderr",
     "output_type": "stream",
     "text": [
      "100%|██████████| 73216/73216 [00:00<00:00, 2168945.59it/s]\n"
     ]
    },
    {
     "name": "stdout",
     "output_type": "stream",
     "text": [
      "0\n",
      "73216\n",
      "Running POT with q=0.001, level=0.9400000000000006..\n",
      "Initial threshold : 0.5776454671371098\n",
      "Number of peaks : 2426\n",
      "Grimshaw maximum log-likelihood estimation ... [done]\n",
      "\tγ = -0.23548596758245455\n",
      "\tσ = 0.10699078330069514\n",
      "\tL = 3567.4294900374916\n",
      "Extreme quantile (probability = 0.001): 0.8587296553443557\n"
     ]
    },
    {
     "name": "stderr",
     "output_type": "stream",
     "text": [
      "100%|██████████| 73216/73216 [00:00<00:00, 2114552.81it/s]\n"
     ]
    },
    {
     "name": "stdout",
     "output_type": "stream",
     "text": [
      "0\n",
      "73216\n",
      "Running POT with q=0.001, level=0.9500000000000006..\n",
      "Initial threshold : 0.5966355109985741\n",
      "Number of peaks : 2022\n",
      "Grimshaw maximum log-likelihood estimation ... [done]\n",
      "\tγ = -0.2352409058280961\n",
      "\tσ = 0.10255257750564191\n",
      "\tL = 3058.5187854058745\n",
      "Extreme quantile (probability = 0.001): 0.8588878005660779\n"
     ]
    },
    {
     "name": "stderr",
     "output_type": "stream",
     "text": [
      "100%|██████████| 73216/73216 [00:00<00:00, 2112574.46it/s]\n"
     ]
    },
    {
     "name": "stdout",
     "output_type": "stream",
     "text": [
      "0\n",
      "73216\n",
      "Running POT with q=0.001, level=0.9600000000000006..\n",
      "Initial threshold : 0.6203530694666171\n",
      "Number of peaks : 1617\n",
      "Grimshaw maximum log-likelihood estimation ... [done]\n",
      "\tγ = -0.22800464986736624\n",
      "\tσ = 0.09511485284899\n",
      "\tL = 2555.9511356172616\n",
      "Extreme quantile (probability = 0.001): 0.8575931507020566\n"
     ]
    },
    {
     "name": "stderr",
     "output_type": "stream",
     "text": [
      "100%|██████████| 73216/73216 [00:00<00:00, 2101442.94it/s]"
     ]
    },
    {
     "name": "stdout",
     "output_type": "stream",
     "text": [
      "0\n",
      "73216\n"
     ]
    },
    {
     "name": "stderr",
     "output_type": "stream",
     "text": [
      "\n"
     ]
    },
    {
     "name": "stdout",
     "output_type": "stream",
     "text": [
      "Running POT with q=0.001, level=0.9700000000000006..\n",
      "Initial threshold : 0.6462931471949851\n",
      "Number of peaks : 1213\n",
      "Grimshaw maximum log-likelihood estimation ... [done]\n",
      "\tγ = -0.2316232725912697\n",
      "\tσ = 0.09001517225863181\n",
      "\tL = 1988.592581852155\n",
      "Extreme quantile (probability = 0.001): 0.8581401470351494\n"
     ]
    },
    {
     "name": "stderr",
     "output_type": "stream",
     "text": [
      "100%|██████████| 73216/73216 [00:00<00:00, 2134957.57it/s]"
     ]
    },
    {
     "name": "stdout",
     "output_type": "stream",
     "text": [
      "0\n",
      "73216\n"
     ]
    },
    {
     "name": "stderr",
     "output_type": "stream",
     "text": [
      "\n"
     ]
    },
    {
     "name": "stdout",
     "output_type": "stream",
     "text": [
      "Running POT with q=0.001, level=0.9800000000000006..\n",
      "Initial threshold : 0.6825415981197054\n",
      "Number of peaks : 808\n",
      "Grimshaw maximum log-likelihood estimation ... [done]\n",
      "\tγ = -0.21916069617024436\n",
      "\tσ = 0.07950180435694484\n",
      "\tL = 1414.9180960081917\n",
      "Extreme quantile (probability = 0.001): 0.857109023652518\n"
     ]
    },
    {
     "name": "stderr",
     "output_type": "stream",
     "text": [
      "100%|██████████| 73216/73216 [00:00<00:00, 1917072.93it/s]"
     ]
    },
    {
     "name": "stdout",
     "output_type": "stream",
     "text": [
      "0\n",
      "73216\n"
     ]
    },
    {
     "name": "stderr",
     "output_type": "stream",
     "text": [
      "\n"
     ]
    },
    {
     "name": "stdout",
     "output_type": "stream",
     "text": [
      "Running POT with q=0.001, level=0.9900000000000007..\n",
      "Initial threshold : 0.737544077774448\n",
      "Number of peaks : 404\n",
      "Grimshaw maximum log-likelihood estimation ... [done]\n",
      "\tγ = -0.16482726349579546\n",
      "\tσ = 0.06007900211212229\n",
      "\tL = 798.6765463694593\n",
      "Extreme quantile (probability = 0.001): 0.8526092721510599\n"
     ]
    },
    {
     "name": "stderr",
     "output_type": "stream",
     "text": [
      "100%|██████████| 73216/73216 [00:00<00:00, 1861987.57it/s]"
     ]
    },
    {
     "name": "stdout",
     "output_type": "stream",
     "text": [
      "0\n",
      "73216\n"
     ]
    },
    {
     "name": "stderr",
     "output_type": "stream",
     "text": [
      "\n"
     ]
    },
    {
     "name": "stdout",
     "output_type": "stream",
     "text": [
      "F1 score:  0.3093948458764907\n",
      "q:  0.001\n",
      "level:  0.8100000000000005\n"
     ]
    }
   ],
   "source": [
    "best = 0.0\n",
    "b_q = 1\n",
    "b_level = 1\n",
    "q = 0.001\n",
    "level = 0.0\n",
    "for i in range(99):\n",
    "    level = level + 0.01\n",
    "    pot_th = pot_eval(FD1wSAL_train, FD1wSAL, y_test[-len(FD1wSAL):], q=q, level=level, dynamic=False)\n",
    "    if best < pot_th['f1']:\n",
    "        best = pot_th['f1']\n",
    "        b_q = q\n",
    "        b_level = level\n",
    "\n",
    "print('F1 score: ', pot_th['f1'])\n",
    "print('q: ', b_q)\n",
    "print('level: ', b_level)"
   ]
  },
  {
   "cell_type": "code",
   "execution_count": 61,
   "metadata": {},
   "outputs": [
    {
     "name": "stdout",
     "output_type": "stream",
     "text": [
      "Running POT with q=0.1, level=0.35..\n",
      "Initial threshold : 2.415766559594232\n",
      "Number of peaks : 26290\n",
      "Grimshaw maximum log-likelihood estimation ... [done]\n",
      "\tγ = 0\n",
      "\tσ = 3.4359172988648057\n",
      "\tL = 58739.32464635066\n",
      "Extreme quantile (probability = 0.1): 8.847052158900055\n"
     ]
    },
    {
     "name": "stderr",
     "output_type": "stream",
     "text": [
      "100%|██████████| 73215/73215 [00:00<00:00, 1752203.72it/s]"
     ]
    },
    {
     "name": "stdout",
     "output_type": "stream",
     "text": [
      "0\n",
      "73215\n"
     ]
    },
    {
     "name": "stderr",
     "output_type": "stream",
     "text": [
      "\n"
     ]
    },
    {
     "data": {
      "image/png": "[encoded data removed]",
      "text/plain": [
       "<Figure size 720x432 with 1 Axes>"
      ]
     },
     "metadata": {
      "needs_background": "light"
     },
     "output_type": "display_data"
    },
    {
     "data": {
      "text/plain": [
       "{'f1': 0.21991696573554706,\n",
       " 'precision': 0.20092952853336626,\n",
       " 'recall': 0.24287953979242288,\n",
       " 'TP': 1859,\n",
       " 'TN': 58168,\n",
       " 'FP': 7393,\n",
       " 'FN': 5795,\n",
       " 'threshold': 8.847052158900055,\n",
       " 'latency': 13.666514816502039}"
      ]
     },
     "execution_count": 61,
     "metadata": {},
     "output_type": "execute_result"
    }
   ],
   "source": [
    "latency = 1   \n",
    "pot_th = pot_eval(FD1wSAL_train[:-latency], FD1wSAL[:-latency], label=y_test[latency:-(len(y_test)-len(FD1wSAL))], q=0.1, level=0.35, dynamic=False)\n",
    "pot_th"
   ]
  },
  {
   "cell_type": "code",
   "execution_count": 36,
   "metadata": {},
   "outputs": [
    {
     "name": "stdout",
     "output_type": "stream",
     "text": [
      "Running POT with q=0.1, level=0.999..\n",
      "Initial threshold : 0.9279429547659319\n",
      "Number of peaks : 40\n",
      "Grimshaw maximum log-likelihood estimation ... [done]\n",
      "\tγ = -0.09647131621991456\n",
      "\tσ = 0.038954718475722586\n",
      "\tL = 93.6730675342121\n",
      "Extreme quantile (probability = 0.1): 0.7014057375120862\n"
     ]
    },
    {
     "name": "stderr",
     "output_type": "stream",
     "text": [
      "100%|██████████| 73215/73215 [00:00<00:00, 1848690.43it/s]\n"
     ]
    },
    {
     "name": "stdout",
     "output_type": "stream",
     "text": [
      "0\n",
      "73215\n",
      "{'f1': 0.7250567426931642, 'precision': 0.6872220914027357, 'recall': 0.7673112088224312, 'TP': 5873, 'TN': 62888, 'FP': 2673, 'FN': 1781, 'threshold': 0.7014057375120862, 'latency': 81.35246263257275}\n",
      "Running POT with q=0.1, level=0.999..\n",
      "Initial threshold : 0.9279429547659319\n",
      "Number of peaks : 40\n",
      "Grimshaw maximum log-likelihood estimation ... [done]\n",
      "\tγ = -0.09647131621991456\n",
      "\tσ = 0.038954718475722586\n",
      "\tL = 93.6730675342121\n",
      "Extreme quantile (probability = 0.1): 0.701526119178599\n"
     ]
    },
    {
     "name": "stderr",
     "output_type": "stream",
     "text": [
      "100%|██████████| 73135/73135 [00:00<00:00, 2219098.49it/s]"
     ]
    },
    {
     "name": "stdout",
     "output_type": "stream",
     "text": [
      "0\n",
      "73135\n"
     ]
    },
    {
     "name": "stderr",
     "output_type": "stream",
     "text": [
      "\n"
     ]
    },
    {
     "name": "stdout",
     "output_type": "stream",
     "text": [
      "{'f1': 0.758899301992259, 'precision': 0.7064054928443032, 'recall': 0.8198327661094424, 'TP': 6275, 'TN': 62873, 'FP': 2608, 'FN': 1379, 'threshold': 0.701526119178599, 'latency': 87.73638033484035}\n"
     ]
    }
   ],
   "source": [
    "latency = 1\n",
    "pot_th = pot_eval(FD1wSAL_train[:-latency], FD1wSAL[:-latency], label=y_test[latency:-(len(y_test)-len(FD1wSAL))], q=0.1, level=0.999, dynamic=False)\n",
    "print(pot_th)\n",
    "latency = int(pot_th['latency'])\n",
    "pot_th = pot_eval(FD1wSAL_train[:-latency], FD1wSAL[:-latency], label=y_test[latency:-(len(y_test)-len(FD1wSAL))], q=0.1, level=0.999, dynamic=False)\n",
    "print(pot_th)"
   ]
  },
  {
   "cell_type": "markdown",
   "metadata": {},
   "source": [
    "### (Optional) epsilon, best F1 from Omnianomaly"
   ]
  },
  {
   "cell_type": "code",
   "execution_count": 59,
   "metadata": {},
   "outputs": [],
   "source": [
    "import more_itertools as mit\n",
    "\n",
    "def epsilon_eval(train_scores, test_scores, test_labels, reg_level=1):\n",
    "    best_epsilon = find_epsilon(train_scores, reg_level)\n",
    "    pred, p_latency = adjust_predicts(test_scores, test_labels, best_epsilon, calc_latency=True)\n",
    "    if test_labels is not None:\n",
    "        p_t = calc_point2point(pred, test_labels)\n",
    "        return {\n",
    "            \"f1\": p_t[0],\n",
    "            \"precision\": p_t[1],\n",
    "            \"recall\": p_t[2],\n",
    "            \"TP\": p_t[3],\n",
    "            \"TN\": p_t[4],\n",
    "            \"FP\": p_t[5],\n",
    "            \"FN\": p_t[6],\n",
    "            \"threshold\": best_epsilon,\n",
    "            \"latency\": p_latency,\n",
    "            \"reg_level\": reg_level,\n",
    "        }\n",
    "    else:\n",
    "        return {\"threshold\": best_epsilon, \"reg_level\": reg_level}\n",
    "\n",
    "\n",
    "def find_epsilon(errors, reg_level=1):\n",
    "    \"\"\"\n",
    "    Threshold method proposed by Hundman et. al. (https://arxiv.org/abs/1802.04431)\n",
    "    Code from TelemAnom (https://github.com/khundman/telemanom)\n",
    "    \"\"\"\n",
    "    e_s = errors\n",
    "    best_epsilon = None\n",
    "    max_score = -10000000\n",
    "    mean_e_s = np.mean(e_s)\n",
    "    sd_e_s = np.std(e_s)\n",
    "\n",
    "    for z in np.arange(2.5, 12, 0.5):\n",
    "        epsilon = mean_e_s + sd_e_s * z\n",
    "        pruned_e_s = e_s[e_s < epsilon]\n",
    "\n",
    "        i_anom = np.argwhere(e_s >= epsilon).reshape(-1,)\n",
    "        buffer = np.arange(1, 50)\n",
    "        i_anom = np.sort(\n",
    "            np.concatenate(\n",
    "                (\n",
    "                    i_anom,\n",
    "                    np.array([i + buffer for i in i_anom]).flatten(),\n",
    "                    np.array([i - buffer for i in i_anom]).flatten(),\n",
    "                )\n",
    "            )\n",
    "        )\n",
    "        i_anom = i_anom[(i_anom < len(e_s)) & (i_anom >= 0)]\n",
    "        i_anom = np.sort(np.unique(i_anom))\n",
    "\n",
    "        if len(i_anom) > 0:\n",
    "            groups = [list(group) for group in mit.consecutive_groups(i_anom)]\n",
    "            # E_seq = [(g[0], g[-1]) for g in groups if not g[0] == g[-1]]\n",
    "\n",
    "            mean_perc_decrease = (mean_e_s - np.mean(pruned_e_s)) / mean_e_s\n",
    "            sd_perc_decrease = (sd_e_s - np.std(pruned_e_s)) / sd_e_s\n",
    "            if reg_level == 0:\n",
    "                denom = 1\n",
    "            elif reg_level == 1:\n",
    "                denom = len(i_anom)\n",
    "            elif reg_level == 2:\n",
    "                denom = len(i_anom) ** 2\n",
    "\n",
    "            score = (mean_perc_decrease + sd_perc_decrease) / denom\n",
    "\n",
    "            if score >= max_score and len(i_anom) < (len(e_s) * 0.5):\n",
    "                max_score = score\n",
    "                best_epsilon = epsilon\n",
    "\n",
    "    if best_epsilon is None:\n",
    "        best_epsilon = np.max(e_s)\n",
    "    return best_epsilon\n",
    "\n",
    "\n",
    "def bf_search(score, label, start, end=None, step_num=1, display_freq=1, verbose=True):\n",
    "    \"\"\"\n",
    "    Find the best-f1 score by searching best `threshold` in [`start`, `end`).\n",
    "    Method from OmniAnomaly (https://github.com/NetManAIOps/OmniAnomaly)\n",
    "    \"\"\"\n",
    "\n",
    "    print(f\"Finding best f1-score by searching for threshold..\")\n",
    "    if step_num is None or end is None:\n",
    "        end = start\n",
    "        step_num = 1\n",
    "    search_step, search_range, search_lower_bound = step_num, end - start, start\n",
    "    if verbose:\n",
    "        print(\"search range: \", search_lower_bound, search_lower_bound + search_range)\n",
    "    threshold = search_lower_bound\n",
    "    m = (-1.0, -1.0, -1.0)\n",
    "    m_t = 0.0\n",
    "    m_l = 0\n",
    "    for i in range(search_step):\n",
    "        threshold += search_range / float(search_step)\n",
    "        target, latency = calc_seq(score, label, threshold)\n",
    "        if target[0] > m[0]:\n",
    "            m_t = threshold\n",
    "            m = target\n",
    "            m_l = latency\n",
    "        if verbose and i % display_freq == 0:\n",
    "            print(\"cur thr: \", threshold, target, m, m_t)\n",
    "\n",
    "    return {\n",
    "        \"f1\": m[0],\n",
    "        \"precision\": m[1],\n",
    "        \"recall\": m[2],\n",
    "        \"TP\": m[3],\n",
    "        \"TN\": m[4],\n",
    "        \"FP\": m[5],\n",
    "        \"FN\": m[6],\n",
    "        \"threshold\": m_t,\n",
    "        \"latency\": m_l,\n",
    "    }\n",
    "\n",
    "\n",
    "def calc_seq(score, label, threshold):\n",
    "    predict, latency = adjust_predicts(score, label, threshold, calc_latency=True)\n",
    "    return calc_point2point(predict, label), latency"
   ]
  },
  {
   "cell_type": "code",
   "execution_count": null,
   "metadata": {},
   "outputs": [],
   "source": [
    "best_valid_metrics = {}\n",
    "t, th = bf_search(test_score, y_test[-len(test_score):],\n",
    "                                      start=config.bf_search_min,\n",
    "                                      end=config.bf_search_max,\n",
    "                                      step_num=int(abs(config.bf_search_max - config.bf_search_min) /\n",
    "                                                   config.bf_search_step_size),\n",
    "                                      display_freq=50)\n",
    "# get pot results\n",
    "pot_result = pot_eval(train_score, test_score, y_test[-len(test_score):], level=config.level)\n",
    "\n",
    "# output the results\n",
    "best_valid_metrics.update({\n",
    "    'best-f1': t[0],\n",
    "    'precision': t[1],\n",
    "    'recall': t[2],\n",
    "    'TP': t[3],\n",
    "    'TN': t[4],\n",
    "    'FP': t[5],\n",
    "    'FN': t[6],\n",
    "    'latency': t[-1],\n",
    "    'threshold': th\n",
    "})\n",
    "best_valid_metrics.update(pot_result)"
   ]
  },
  {
   "cell_type": "code",
   "execution_count": 60,
   "metadata": {},
   "outputs": [
    {
     "name": "stdout",
     "output_type": "stream",
     "text": [
      "e_eval: {'f1': 0.6030345550057847, 'precision': 0.49670162339588836, 'recall': 0.7673112088224312, 'TP': 5873, 'TN': 59611, 'FP': 5951, 'FN': 1781, 'threshold': 1.1618808547432227, 'latency': 42.999747060311414, 'reg_level': 0}\n",
      "Finding best f1-score by searching for threshold..\n",
      "bf_eval; {'f1': 0.6565492040918467, 'precision': 0.9156147711182451, 'recall': 0.5117585569483165, 'TP': 3917, 'TN': 65201, 'FP': 361, 'FN': 3737, 'threshold': 2.0, 'latency': 326.28105312781247}\n"
     ]
    }
   ],
   "source": [
    "dataset = 'MSL'\n",
    "group = '1'\n",
    "reg_level_dict = {\"SMAP\": 0, \"MSL\": 0, \"SMD-1\": 1, \"SMD-2\": 1, \"SMD-3\": 1}\n",
    "key = \"SMD-\" + group if dataset == \"SMD\" else dataset\n",
    "reg_level = reg_level_dict[key]\n",
    "\n",
    "FD1wSAL_train = np.array(FD1wSAL_train)\n",
    "FD1wSAL = np.array(FD1wSAL)\n",
    "e_eval = epsilon_eval(FD1wSAL_train, FD1wSAL, y_test[:-(len(y_test)-len(FD1wSAL))], reg_level=reg_level)\n",
    "print(\"e_eval:\", e_eval)\n",
    "\n",
    "bf_eval = bf_search(FD1wSAL, y_test[:-(len(y_test)-len(FD1wSAL))], start=0, end=200, step_num=100, verbose=False)\n",
    "print(\"bf_eval;\", bf_eval)\n"
   ]
  },
  {
   "cell_type": "code",
   "execution_count": 1,
   "metadata": {},
   "outputs": [
    {
     "ename": "NameError",
     "evalue": "name 'pot_eval' is not defined",
     "output_type": "error",
     "traceback": [
      "\u001b[0;31m---------------------------------------------------------------------------\u001b[0m",
      "\u001b[0;31mNameError\u001b[0m                                 Traceback (most recent call last)",
      "\u001b[0;32m/tmp/ipykernel_2053/3611097649.py\u001b[0m in \u001b[0;36m<module>\u001b[0;34m\u001b[0m\n\u001b[0;32m----> 1\u001b[0;31m \u001b[0mpot_th\u001b[0m \u001b[0;34m=\u001b[0m \u001b[0mpot_eval\u001b[0m\u001b[0;34m(\u001b[0m\u001b[0mFIN_DIST_train\u001b[0m\u001b[0;34m,\u001b[0m \u001b[0mFIN_DIST\u001b[0m\u001b[0;34m,\u001b[0m \u001b[0mlabel\u001b[0m\u001b[0;34m=\u001b[0m\u001b[0my_test\u001b[0m\u001b[0;34m[\u001b[0m\u001b[0;34m:\u001b[0m\u001b[0;34m-\u001b[0m\u001b[0;34m(\u001b[0m\u001b[0mlen\u001b[0m\u001b[0;34m(\u001b[0m\u001b[0my_test\u001b[0m\u001b[0;34m)\u001b[0m\u001b[0;34m-\u001b[0m\u001b[0mlen\u001b[0m\u001b[0;34m(\u001b[0m\u001b[0mFIN_DIST\u001b[0m\u001b[0;34m)\u001b[0m\u001b[0;34m)\u001b[0m\u001b[0;34m]\u001b[0m\u001b[0;34m,\u001b[0m \u001b[0mq\u001b[0m\u001b[0;34m=\u001b[0m\u001b[0;36m0.05\u001b[0m\u001b[0;34m,\u001b[0m \u001b[0mlevel\u001b[0m\u001b[0;34m=\u001b[0m\u001b[0;36m0.99\u001b[0m\u001b[0;34m,\u001b[0m \u001b[0mdynamic\u001b[0m\u001b[0;34m=\u001b[0m\u001b[0;32mTrue\u001b[0m\u001b[0;34m)\u001b[0m\u001b[0;34m\u001b[0m\u001b[0;34m\u001b[0m\u001b[0m\n\u001b[0m\u001b[1;32m      2\u001b[0m \u001b[0mpot_th\u001b[0m\u001b[0;34m\u001b[0m\u001b[0;34m\u001b[0m\u001b[0m\n",
      "\u001b[0;31mNameError\u001b[0m: name 'pot_eval' is not defined"
     ]
    }
   ],
   "source": [
    "pot_th = pot_eval(FIN_DIST_train, FIN_DIST, label=y_test[:-(len(y_test)-len(FIN_DIST))], q=0.05, level=0.99, dynamic=True)\n",
    "pot_th"
   ]
  },
  {
   "cell_type": "code",
   "execution_count": 30,
   "metadata": {},
   "outputs": [
    {
     "name": "stdout",
     "output_type": "stream",
     "text": [
      "Running POT with q=0.01, level=0.99..\n",
      "Initial threshold : 132.33325\n",
      "Number of peaks : 582\n",
      "Grimshaw maximum log-likelihood estimation ... [done]\n",
      "\tγ = 0\n",
      "\tσ = 4.6696057\n",
      "\tL = 1478.905441884447\n",
      "Extreme quantile (probability = 0.01): 132.33188817810918\n"
     ]
    },
    {
     "name": "stderr",
     "output_type": "stream",
     "text": [
      "100%|██████████| 73629/73629 [00:00<00:00, 2149017.49it/s]"
     ]
    },
    {
     "name": "stdout",
     "output_type": "stream",
     "text": [
      "0\n",
      "73629\n"
     ]
    },
    {
     "name": "stderr",
     "output_type": "stream",
     "text": [
      "\n"
     ]
    },
    {
     "data": {
      "image/png": "[encoded data removed]",
      "text/plain": [
       "<Figure size 1440x864 with 1 Axes>"
      ]
     },
     "metadata": {
      "needs_background": "light"
     },
     "output_type": "display_data"
    },
    {
     "data": {
      "text/plain": [
       "{'f1': 0.28107621036246055,\n",
       " 'precision': 0.5425414344657774,\n",
       " 'recall': 0.18967293305476057,\n",
       " 'TP': 1473,\n",
       " 'TN': 64621,\n",
       " 'FP': 1242,\n",
       " 'FN': 6293,\n",
       " 'threshold': 132.33188817810924,\n",
       " 'latency': 243.99186693776872}"
      ]
     },
     "execution_count": 30,
     "metadata": {},
     "output_type": "execute_result"
    }
   ],
   "source": [
    "pot_th = pot_eval(DIST_SAL_train, DIST_SAL, label=y_test[:len(y_test)-100], q=1e-2, level=0.99, dynamic=False)\n",
    "pot_th"
   ]
  }
 ],
 "metadata": {
  "kernelspec": {
   "display_name": "saliency",
   "language": "python",
   "name": "saliency"
  },
  "language_info": {
   "codemirror_mode": {
    "name": "ipython",
    "version": 3
   },
   "file_extension": ".py",
   "mimetype": "text/x-python",
   "name": "python",
   "nbconvert_exporter": "python",
   "pygments_lexer": "ipython3",
   "version": "3.7.11"
  },
  "orig_nbformat": 4
 },
 "nbformat": 4,
 "nbformat_minor": 2
}
